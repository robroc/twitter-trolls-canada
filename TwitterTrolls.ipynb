{
 "cells": [
  {
   "cell_type": "markdown",
   "metadata": {},
   "source": [
    "This is the Python code used to analyze 9.6 million tweets from troll accounts identified by Twitter.\n",
    "\n",
    "The tweets need to be downloaded from [Twitter's data integrity site](https://about.twitter.com/en_us/values/elections-integrity.html#data).\n",
    "\n",
    "The following libraries are needed ro run the code:\n",
    "* pandas\n",
    "* numpy\n",
    "* matplotlib\n"
   ]
  },
  {
   "cell_type": "markdown",
   "metadata": {},
   "source": [
    "First, load necessary libraries and set display options"
   ]
  },
  {
   "cell_type": "code",
   "execution_count": 1,
   "metadata": {},
   "outputs": [],
   "source": [
    "import pandas as pd\n",
    "import numpy as np\n",
    "import matplotlib.pyplot as plt\n",
    "import glob\n",
    "\n",
    "pd.set_option('display.width', 2200)\n",
    "pd.set_option('display.max_colwidth', 500)"
   ]
  },
  {
   "cell_type": "markdown",
   "metadata": {},
   "source": [
    "I placed the data files into folders for each country origin and made that folder name a column. I exluded one Venezuelan data file because it wasn't loading. It is possibly corruted somewhere inside.\n",
    "\n",
    "This code reads each file in the folder and merges them into one monster dataset."
   ]
  },
  {
   "cell_type": "code",
   "execution_count": 12,
   "metadata": {},
   "outputs": [
    {
     "name": "stdout",
     "output_type": "stream",
     "text": [
      "Russia\\ira_tweets_csv_hashed.csv\n"
     ]
    },
    {
     "name": "stderr",
     "output_type": "stream",
     "text": [
      "C:\\Users\\rochar\\AppData\\Local\\Continuum\\miniconda3\\lib\\site-packages\\IPython\\core\\interactiveshell.py:2785: DtypeWarning: Columns (30) have mixed types. Specify dtype option on import or set low_memory=False.\n",
      "  interactivity=interactivity, compiler=compiler, result=result)\n"
     ]
    },
    {
     "name": "stdout",
     "output_type": "stream",
     "text": [
      "Russia\\russian_201901_1_tweets_csv_hashed.csv\n"
     ]
    },
    {
     "name": "stderr",
     "output_type": "stream",
     "text": [
      "C:\\Users\\rochar\\AppData\\Local\\Continuum\\miniconda3\\lib\\site-packages\\IPython\\core\\interactiveshell.py:2785: DtypeWarning: Columns (29) have mixed types. Specify dtype option on import or set low_memory=False.\n",
      "  interactivity=interactivity, compiler=compiler, result=result)\n"
     ]
    },
    {
     "name": "stdout",
     "output_type": "stream",
     "text": [
      "Iran\\iranian_tweets_csv_hashed.csv\n",
      "Iran\\iran_201901_1_tweets_csv_hashed.csv\n",
      "Venezuela\\venezuela_201901_2_tweets_csv_hashed.csv\n",
      "Bangladesh\\bangladesh_201901_1_tweets_csv_hashed.csv\n"
     ]
    },
    {
     "name": "stderr",
     "output_type": "stream",
     "text": [
      "C:\\Users\\rochar\\AppData\\Local\\Continuum\\miniconda3\\lib\\site-packages\\ipykernel_launcher.py:13: FutureWarning: Sorting because non-concatenation axis is not aligned. A future version\n",
      "of pandas will change to not sort by default.\n",
      "\n",
      "To accept the future behavior, pass 'sort=True'.\n",
      "\n",
      "To retain the current behavior and silence the warning, pass sort=False\n",
      "\n",
      "  del sys.path[0]\n"
     ]
    },
    {
     "data": {
      "text/plain": [
       "9653006"
      ]
     },
     "execution_count": 12,
     "metadata": {},
     "output_type": "execute_result"
    }
   ],
   "source": [
    "folders = ['Russia', 'Iran', 'Venezuela', 'Bangladesh']\n",
    "\n",
    "all_data = []\n",
    "\n",
    "for folder in folders:\n",
    "    files = glob.glob(folder + '/*.csv')\n",
    "    for file in files:\n",
    "        print(file)\n",
    "        tmp = pd.read_csv(file, encoding='utf-8', parse_dates = ['account_creation_date', 'tweet_time'])\n",
    "        tmp['country'] = folder\n",
    "        all_data.append(tmp)\n",
    "        \n",
    "df = pd.concat(all_data)\n",
    "\n",
    "print('Total tweets loaded:')\n",
    "print(len(df))"
   ]
  },
  {
   "cell_type": "markdown",
   "metadata": {},
   "source": [
    "Delete variables to clear up memory and save complete data as pickle for faster loading next time"
   ]
  },
  {
   "cell_type": "code",
   "execution_count": 13,
   "metadata": {},
   "outputs": [],
   "source": [
    "del all_data\n",
    "del tmp\n",
    "df.to_pickle('all_troll_tweets.pickle')"
   ]
  },
  {
   "cell_type": "code",
   "execution_count": 2,
   "metadata": {},
   "outputs": [],
   "source": [
    "df = pd.read_pickle('all_troll_tweets.pickle')"
   ]
  },
  {
   "cell_type": "markdown",
   "metadata": {},
   "source": [
    "To find tweets about Canada, we need to filter the tweets for uniquely Canadian terms. This is a list of keywords in [regular expression](https://en.wikipedia.org/wiki/Regular_expression) form to search through all the tweets. "
   ]
  },
  {
   "cell_type": "code",
   "execution_count": 3,
   "metadata": {},
   "outputs": [
    {
     "data": {
      "text/plain": [
       "'(canada|canadian|trudeau|justintrudeau|toronto|montreal|vancouver|ottawa|\\\\Wonpoli\\\\W|polqc|cdnpoli|canuck|\\\\Wndp\\\\W|scheer|(the)?jagmeet ?singh|\\\\Wtopoli\\\\W|quebec|qcpoli|halifax|edmonton|calgary|alberta|ontario|winnipeg|manitoba|saskatchewan|british columbia|ezra ?levant|therebeltv|rob ford|doug ford|fordnation|la ?meute|alexandre bissonnette|atalante|zeiger|alek minassian|chrystia freeland|cafreeland|kathleen[ _]wynne|\\\\Wcbc\\\\W|cbcnews|ctvnews|globe ?and ?mail|\\\\Wpostmedia\\\\W|keystone ?xl|kinder ?morgan|trans ?mountain|colten ?boushie|boushie|settlecollector|justiceforcolten|oil ?sands|\\\\Wableg\\\\W|\\\\Wbcpoli\\\\W|energy ?east|barbara[ r]kay|candice ?malcolm|yellow ?vests? ?(canada)?|ontario(is)? ?proud|maxime ?bernier|fran[çc]ois ?legault|coalition ?avenir|liberal_party|cpc_hq|\\\\Wclann\\\\W|elizabeth ?may)'"
      ]
     },
     "execution_count": 3,
     "metadata": {},
     "output_type": "execute_result"
    }
   ],
   "source": [
    "can_words = ['canada', 'canadian', 'trudeau', 'justintrudeau', 'toronto', 'montreal', 'vancouver', 'ottawa', '\\Wonpoli\\W', 'polqc', 'cdnpoli',\n",
    "             'canuck', '\\Wndp\\W', 'scheer', '(the)?jagmeet ?singh', '\\Wtopoli\\W', 'quebec', 'qcpoli',\n",
    "             'halifax', 'edmonton', 'calgary', 'alberta', 'ontario', 'winnipeg', 'manitoba', 'saskatchewan', 'british columbia',\n",
    "            'ezra ?levant', 'therebeltv', 'rob ford', 'doug ford', 'fordnation', 'la ?meute', 'alexandre bissonnette',\n",
    "            'atalante', 'zeiger', 'alek minassian', 'chrystia freeland', 'cafreeland', 'kathleen[ _]wynne', \n",
    "            '\\Wcbc\\W', 'cbcnews', 'ctvnews', 'globe ?and ?mail', '\\Wpostmedia\\W', 'keystone ?xl', 'kinder ?morgan', 'trans ?mountain',\n",
    "            'colten ?boushie', 'boushie', 'settlecollector', 'justiceforcolten', 'oil ?sands', '\\Wableg\\W', '\\Wbcpoli\\W', 'energy ?east',\n",
    "            'barbara[ r]kay', 'candice ?malcolm', 'yellow ?vests? ?(canada)?', 'ontario(is)? ?proud', 'maxime ?bernier', 'fran[çc]ois ?legault',\n",
    "            'coalition ?avenir', 'liberal_party', 'cpc_hq', '\\Wclann\\W', 'elizabeth ?may']\n",
    "\n",
    "can_regex = '(' + '|'.join(can_words) + ')'\n",
    "can_regex"
   ]
  },
  {
   "cell_type": "code",
   "execution_count": 10,
   "metadata": {},
   "outputs": [
    {
     "data": {
      "text/plain": [
       "67"
      ]
     },
     "execution_count": 10,
     "metadata": {},
     "output_type": "execute_result"
    }
   ],
   "source": [
    "len(can_words)"
   ]
  },
  {
   "cell_type": "markdown",
   "metadata": {},
   "source": [
    "This filters the data for Canadian tweets. It may take a few minutes to complete."
   ]
  },
  {
   "cell_type": "code",
   "execution_count": 4,
   "metadata": {},
   "outputs": [
    {
     "name": "stdout",
     "output_type": "stream",
     "text": [
      "Number of tweets about Canada:\n",
      "21631\n"
     ]
    }
   ],
   "source": [
    "df = df[df.tweet_text.notna()]\n",
    "cantwt = df[df.tweet_text.str.contains(can_regex, case=False)]\n",
    "cantwt.tweet_time = pd.to_datetime(cantwt.tweet_time)\n",
    "\n",
    "print('Number of tweets about Canada:')\n",
    "print(len(cantwt))"
   ]
  },
  {
   "cell_type": "markdown",
   "metadata": {},
   "source": [
    "A lot of tweets are cluttered with noise: hashtags, @-mentions and URLs. Strip these out to get the pure tweet text. Then return the 20 most frequent \"clean\" tweets.\n",
    "\n",
    "A blank tweet means it only had hashtags, @-mentions and URLs."
   ]
  },
  {
   "cell_type": "code",
   "execution_count": 4,
   "metadata": {},
   "outputs": [
    {
     "data": {
      "text/plain": [
       "                                                                                                      383\n",
       "Un lien entre recruteur de l'Etat islamique et l'ambassade du Canada en Jordanie s'ébruite            338\n",
       "Des centaines d'intellectuels dénoncent le soutien d'Ottawa à Israël                                  187\n",
       "Canada Wants to Take Unvetted Muslim “Refugees” Detained at U.S. Airports                             122\n",
       "BREAKING : Canada Will Not Allow SINGLE Syrian Men to Seek Refuge                                     121\n",
       "Justin Trudeau Booed At Town Hall As Polls Show His Horrific Approval Ratings                         109\n",
       "Canada’s Prime Minister Just Stubbed President Trump In The Back!!!                                   106\n",
       "Canada to offer temp permits to those stranded by Trump ban                                           105\n",
       "Canada may contribute to Dutch-led international abortion fund                                        104\n",
       "Canada FORCED to take DRASTIC Action to Stop Illegals From Flooding In                                101\n",
       "What connects attacks in Quebec and Charleston? Trump needs to know | Richard Wolffe                   86\n",
       "Canadian scientists lend support to muzzled US counterparts                                            86\n",
       "+2XzgD7yxd4qEAeOpJgCnyrEJYlE=: Now Is theTime for Blame:&amp; the Myth of a 'Generous' !               85\n",
       "Quebec Mosque Shooting Suspects are Mohamed Khadir and Alexandre Bissonnette                           85\n",
       "BREAKING: Police Arrest Moroccan Student in Quebec Mosque Shooting                                     85\n",
       "Why Hasn’t Chelsea Handler Moved to Canada By Now?                                                     84\n",
       "…                                                                                                      83\n",
       "Justin Trudeau's tweets won’t make Canada a refugee haven—but popular pressure can | Martin Lukacs     82\n",
       "Canadian journo totally crushes MSM reporter on what’s actually going on in                            82\n",
       "'Islamophobia killed Canadians': anti-Muslim rhetoric blamed in Québec attack                          76\n",
       "Name: clean_tweet, dtype: int64"
      ]
     },
     "execution_count": 4,
     "metadata": {},
     "output_type": "execute_result"
    }
   ],
   "source": [
    "cantwt['clean_tweet'] = cantwt.tweet_text.str.replace('(@\\w+=?:?|#\\w+|https?:.+|RT[ =]*)', '').str.strip()\n",
    "cantwt.clean_tweet.value_counts().head(20)"
   ]
  },
  {
   "cell_type": "markdown",
   "metadata": {},
   "source": [
    "Export to Excel for easy sharing."
   ]
  },
  {
   "cell_type": "code",
   "execution_count": 553,
   "metadata": {},
   "outputs": [],
   "source": [
    "cantwt.to_excel('troll_tweets_canada_new.xlsx')"
   ]
  },
  {
   "cell_type": "markdown",
   "metadata": {},
   "source": [
    "See how many of tweets have the keywords in the list created."
   ]
  },
  {
   "cell_type": "code",
   "execution_count": 291,
   "metadata": {},
   "outputs": [
    {
     "name": "stderr",
     "output_type": "stream",
     "text": [
      "C:\\Users\\rochar\\AppData\\Local\\Continuum\\miniconda3\\lib\\site-packages\\ipykernel_launcher.py:6: UserWarning: This pattern has match groups. To actually get the groups, use str.extract.\n",
      "  \n"
     ]
    },
    {
     "data": {
      "text/plain": [
       "[('canada', 10091),\n",
       " ('canadian', 3725),\n",
       " ('trudeau', 2493),\n",
       " ('toronto', 1345),\n",
       " ('quebec', 1212),\n",
       " ('ottawa', 718),\n",
       " ('justintrudeau', 569),\n",
       " ('cdnpoli', 553),\n",
       " ('alberta', 529),\n",
       " ('ontario', 501),\n",
       " ('montreal', 483),\n",
       " ('vancouver', 349),\n",
       " ('keystone ?xl', 325),\n",
       " ('cbcnews', 291),\n",
       " ('therebeltv', 266),\n",
       " ('ezra ?levant', 246),\n",
       " ('calgary', 177),\n",
       " ('canuck', 148),\n",
       " ('\\\\Wcbc\\\\W', 144),\n",
       " ('manitoba', 125),\n",
       " ('british columbia', 123),\n",
       " ('winnipeg', 112),\n",
       " ('edmonton', 110),\n",
       " ('globe ?and ?mail', 110),\n",
       " ('ctvnews', 102),\n",
       " ('alexandre bissonnette', 99),\n",
       " ('scheer', 98),\n",
       " ('halifax', 63),\n",
       " ('kinder ?morgan', 62),\n",
       " ('rob ford', 55),\n",
       " ('\\\\Wndp\\\\W', 49),\n",
       " ('\\\\Wbcpoli\\\\W', 48),\n",
       " ('saskatchewan', 42),\n",
       " ('\\\\Wonpoli\\\\W', 33),\n",
       " ('oil ?sands', 24),\n",
       " ('la ?meute', 23),\n",
       " ('cafreeland', 21),\n",
       " ('candice ?malcolm', 19),\n",
       " ('polqc', 18),\n",
       " ('\\\\Wableg\\\\W', 18),\n",
       " ('cpc_hq', 16),\n",
       " ('liberal_party', 15),\n",
       " ('trans ?mountain', 13),\n",
       " ('\\\\Wtopoli\\\\W', 12),\n",
       " ('zeiger', 12),\n",
       " ('(the)?jagmeet ?singh', 10),\n",
       " ('maxime ?bernier', 10),\n",
       " ('boushie', 8),\n",
       " ('doug ford', 7),\n",
       " ('kathleen[ _]wynne', 7),\n",
       " ('colten ?boushie', 7),\n",
       " ('chrystia freeland', 6),\n",
       " ('alek minassian', 5),\n",
       " ('justiceforcolten', 5),\n",
       " ('qcpoli', 4),\n",
       " ('fordnation', 4),\n",
       " ('\\\\Wpostmedia\\\\W', 2),\n",
       " ('barbara[ r]kay', 2),\n",
       " ('ontario(is)? ?proud', 2),\n",
       " ('elizabeth ?may', 2),\n",
       " ('atalante', 1),\n",
       " ('yellow ?vests? ?(canada)?', 1),\n",
       " ('settlecollector', 0),\n",
       " ('energy ?east', 0),\n",
       " ('fran[çc]ois ?legault', 0),\n",
       " ('coalition ?avenir', 0),\n",
       " ('\\\\Wclann\\\\W', 0)]"
      ]
     },
     "execution_count": 291,
     "metadata": {},
     "output_type": "execute_result"
    }
   ],
   "source": [
    "word_freq = {}\n",
    "\n",
    "for word in can_words:\n",
    "    word_freq[word] = len(cantwt[cantwt.tweet_text.str.contains(word, case=False)])\n",
    "    \n",
    "sorted(word_freq.items(), key=lambda x: x[1], reverse=True)"
   ]
  },
  {
   "cell_type": "markdown",
   "metadata": {},
   "source": [
    "Number of tweets by country of origin"
   ]
  },
  {
   "cell_type": "code",
   "execution_count": 293,
   "metadata": {},
   "outputs": [
    {
     "data": {
      "text/plain": [
       "Iran          10836\n",
       "Russia         6525\n",
       "Venezuela      4261\n",
       "Bangladesh        9\n",
       "Name: country, dtype: int64"
      ]
     },
     "execution_count": 293,
     "metadata": {},
     "output_type": "execute_result"
    }
   ],
   "source": [
    "cantwt.country.value_counts()"
   ]
  },
  {
   "cell_type": "markdown",
   "metadata": {},
   "source": [
    "Show frequency of tweets by day. Pandas threw an error but the chart still rendered."
   ]
  },
  {
   "cell_type": "code",
   "execution_count": 295,
   "metadata": {},
   "outputs": [
    {
     "ename": "NonGuiException",
     "evalue": "",
     "output_type": "error",
     "traceback": [
      "\u001b[1;31m---------------------------------------------------------------------------\u001b[0m",
      "\u001b[1;31mNonGuiException\u001b[0m                           Traceback (most recent call last)",
      "\u001b[1;32m<ipython-input-295-03b7a814bb2a>\u001b[0m in \u001b[0;36m<module>\u001b[1;34m()\u001b[0m\n\u001b[0;32m      2\u001b[0m \u001b[1;33m\u001b[0m\u001b[0m\n\u001b[0;32m      3\u001b[0m \u001b[0mby_day\u001b[0m \u001b[1;33m=\u001b[0m \u001b[0mcantwt\u001b[0m\u001b[1;33m.\u001b[0m\u001b[0mgroupby\u001b[0m\u001b[1;33m(\u001b[0m\u001b[0mcantwt\u001b[0m\u001b[1;33m.\u001b[0m\u001b[0mtweet_time\u001b[0m\u001b[1;33m.\u001b[0m\u001b[0mdt\u001b[0m\u001b[1;33m.\u001b[0m\u001b[0mto_period\u001b[0m\u001b[1;33m(\u001b[0m\u001b[1;34m'D'\u001b[0m\u001b[1;33m)\u001b[0m\u001b[1;33m)\u001b[0m\u001b[1;33m.\u001b[0m\u001b[0msize\u001b[0m\u001b[1;33m(\u001b[0m\u001b[1;33m)\u001b[0m\u001b[1;33m\u001b[0m\u001b[0m\n\u001b[1;32m----> 4\u001b[1;33m \u001b[0mby_day\u001b[0m\u001b[1;33m.\u001b[0m\u001b[0mplot\u001b[0m\u001b[1;33m(\u001b[0m\u001b[0mfigsize\u001b[0m\u001b[1;33m=\u001b[0m\u001b[1;33m(\u001b[0m\u001b[1;36m11\u001b[0m\u001b[1;33m,\u001b[0m\u001b[1;36m5\u001b[0m\u001b[1;33m)\u001b[0m\u001b[1;33m)\u001b[0m\u001b[1;33m\u001b[0m\u001b[0m\n\u001b[0m",
      "\u001b[1;32m~\\AppData\\Local\\Continuum\\miniconda3\\lib\\site-packages\\pandas\\plotting\\_core.py\u001b[0m in \u001b[0;36m__call__\u001b[1;34m(self, kind, ax, figsize, use_index, title, grid, legend, style, logx, logy, loglog, xticks, yticks, xlim, ylim, rot, fontsize, colormap, table, yerr, xerr, label, secondary_y, **kwds)\u001b[0m\n\u001b[0;32m   2739\u001b[0m                            \u001b[0mcolormap\u001b[0m\u001b[1;33m=\u001b[0m\u001b[0mcolormap\u001b[0m\u001b[1;33m,\u001b[0m \u001b[0mtable\u001b[0m\u001b[1;33m=\u001b[0m\u001b[0mtable\u001b[0m\u001b[1;33m,\u001b[0m \u001b[0myerr\u001b[0m\u001b[1;33m=\u001b[0m\u001b[0myerr\u001b[0m\u001b[1;33m,\u001b[0m\u001b[1;33m\u001b[0m\u001b[0m\n\u001b[0;32m   2740\u001b[0m                            \u001b[0mxerr\u001b[0m\u001b[1;33m=\u001b[0m\u001b[0mxerr\u001b[0m\u001b[1;33m,\u001b[0m \u001b[0mlabel\u001b[0m\u001b[1;33m=\u001b[0m\u001b[0mlabel\u001b[0m\u001b[1;33m,\u001b[0m \u001b[0msecondary_y\u001b[0m\u001b[1;33m=\u001b[0m\u001b[0msecondary_y\u001b[0m\u001b[1;33m,\u001b[0m\u001b[1;33m\u001b[0m\u001b[0m\n\u001b[1;32m-> 2741\u001b[1;33m                            **kwds)\n\u001b[0m\u001b[0;32m   2742\u001b[0m     \u001b[0m__call__\u001b[0m\u001b[1;33m.\u001b[0m\u001b[0m__doc__\u001b[0m \u001b[1;33m=\u001b[0m \u001b[0mplot_series\u001b[0m\u001b[1;33m.\u001b[0m\u001b[0m__doc__\u001b[0m\u001b[1;33m\u001b[0m\u001b[0m\n\u001b[0;32m   2743\u001b[0m \u001b[1;33m\u001b[0m\u001b[0m\n",
      "\u001b[1;32m~\\AppData\\Local\\Continuum\\miniconda3\\lib\\site-packages\\pandas\\plotting\\_core.py\u001b[0m in \u001b[0;36mplot_series\u001b[1;34m(data, kind, ax, figsize, use_index, title, grid, legend, style, logx, logy, loglog, xticks, yticks, xlim, ylim, rot, fontsize, colormap, table, yerr, xerr, label, secondary_y, **kwds)\u001b[0m\n\u001b[0;32m   2000\u001b[0m                  \u001b[0myerr\u001b[0m\u001b[1;33m=\u001b[0m\u001b[0myerr\u001b[0m\u001b[1;33m,\u001b[0m \u001b[0mxerr\u001b[0m\u001b[1;33m=\u001b[0m\u001b[0mxerr\u001b[0m\u001b[1;33m,\u001b[0m\u001b[1;33m\u001b[0m\u001b[0m\n\u001b[0;32m   2001\u001b[0m                  \u001b[0mlabel\u001b[0m\u001b[1;33m=\u001b[0m\u001b[0mlabel\u001b[0m\u001b[1;33m,\u001b[0m \u001b[0msecondary_y\u001b[0m\u001b[1;33m=\u001b[0m\u001b[0msecondary_y\u001b[0m\u001b[1;33m,\u001b[0m\u001b[1;33m\u001b[0m\u001b[0m\n\u001b[1;32m-> 2002\u001b[1;33m                  **kwds)\n\u001b[0m\u001b[0;32m   2003\u001b[0m \u001b[1;33m\u001b[0m\u001b[0m\n\u001b[0;32m   2004\u001b[0m \u001b[1;33m\u001b[0m\u001b[0m\n",
      "\u001b[1;32m~\\AppData\\Local\\Continuum\\miniconda3\\lib\\site-packages\\pandas\\plotting\\_core.py\u001b[0m in \u001b[0;36m_plot\u001b[1;34m(data, x, y, subplots, ax, kind, **kwds)\u001b[0m\n\u001b[0;32m   1802\u001b[0m         \u001b[0mplot_obj\u001b[0m \u001b[1;33m=\u001b[0m \u001b[0mklass\u001b[0m\u001b[1;33m(\u001b[0m\u001b[0mdata\u001b[0m\u001b[1;33m,\u001b[0m \u001b[0msubplots\u001b[0m\u001b[1;33m=\u001b[0m\u001b[0msubplots\u001b[0m\u001b[1;33m,\u001b[0m \u001b[0max\u001b[0m\u001b[1;33m=\u001b[0m\u001b[0max\u001b[0m\u001b[1;33m,\u001b[0m \u001b[0mkind\u001b[0m\u001b[1;33m=\u001b[0m\u001b[0mkind\u001b[0m\u001b[1;33m,\u001b[0m \u001b[1;33m**\u001b[0m\u001b[0mkwds\u001b[0m\u001b[1;33m)\u001b[0m\u001b[1;33m\u001b[0m\u001b[0m\n\u001b[0;32m   1803\u001b[0m \u001b[1;33m\u001b[0m\u001b[0m\n\u001b[1;32m-> 1804\u001b[1;33m     \u001b[0mplot_obj\u001b[0m\u001b[1;33m.\u001b[0m\u001b[0mgenerate\u001b[0m\u001b[1;33m(\u001b[0m\u001b[1;33m)\u001b[0m\u001b[1;33m\u001b[0m\u001b[0m\n\u001b[0m\u001b[0;32m   1805\u001b[0m     \u001b[0mplot_obj\u001b[0m\u001b[1;33m.\u001b[0m\u001b[0mdraw\u001b[0m\u001b[1;33m(\u001b[0m\u001b[1;33m)\u001b[0m\u001b[1;33m\u001b[0m\u001b[0m\n\u001b[0;32m   1806\u001b[0m     \u001b[1;32mreturn\u001b[0m \u001b[0mplot_obj\u001b[0m\u001b[1;33m.\u001b[0m\u001b[0mresult\u001b[0m\u001b[1;33m\u001b[0m\u001b[0m\n",
      "\u001b[1;32m~\\AppData\\Local\\Continuum\\miniconda3\\lib\\site-packages\\pandas\\plotting\\_core.py\u001b[0m in \u001b[0;36mgenerate\u001b[1;34m(self)\u001b[0m\n\u001b[0;32m    258\u001b[0m         \u001b[0mself\u001b[0m\u001b[1;33m.\u001b[0m\u001b[0m_compute_plot_data\u001b[0m\u001b[1;33m(\u001b[0m\u001b[1;33m)\u001b[0m\u001b[1;33m\u001b[0m\u001b[0m\n\u001b[0;32m    259\u001b[0m         \u001b[0mself\u001b[0m\u001b[1;33m.\u001b[0m\u001b[0m_setup_subplots\u001b[0m\u001b[1;33m(\u001b[0m\u001b[1;33m)\u001b[0m\u001b[1;33m\u001b[0m\u001b[0m\n\u001b[1;32m--> 260\u001b[1;33m         \u001b[0mself\u001b[0m\u001b[1;33m.\u001b[0m\u001b[0m_make_plot\u001b[0m\u001b[1;33m(\u001b[0m\u001b[1;33m)\u001b[0m\u001b[1;33m\u001b[0m\u001b[0m\n\u001b[0m\u001b[0;32m    261\u001b[0m         \u001b[0mself\u001b[0m\u001b[1;33m.\u001b[0m\u001b[0m_add_table\u001b[0m\u001b[1;33m(\u001b[0m\u001b[1;33m)\u001b[0m\u001b[1;33m\u001b[0m\u001b[0m\n\u001b[0;32m    262\u001b[0m         \u001b[0mself\u001b[0m\u001b[1;33m.\u001b[0m\u001b[0m_make_legend\u001b[0m\u001b[1;33m(\u001b[0m\u001b[1;33m)\u001b[0m\u001b[1;33m\u001b[0m\u001b[0m\n",
      "\u001b[1;32m~\\AppData\\Local\\Continuum\\miniconda3\\lib\\site-packages\\pandas\\plotting\\_core.py\u001b[0m in \u001b[0;36m_make_plot\u001b[1;34m(self)\u001b[0m\n\u001b[0;32m    983\u001b[0m                              \u001b[0mstacking_id\u001b[0m\u001b[1;33m=\u001b[0m\u001b[0mstacking_id\u001b[0m\u001b[1;33m,\u001b[0m\u001b[1;33m\u001b[0m\u001b[0m\n\u001b[0;32m    984\u001b[0m                              \u001b[0mis_errorbar\u001b[0m\u001b[1;33m=\u001b[0m\u001b[0mis_errorbar\u001b[0m\u001b[1;33m,\u001b[0m\u001b[1;33m\u001b[0m\u001b[0m\n\u001b[1;32m--> 985\u001b[1;33m                              **kwds)\n\u001b[0m\u001b[0;32m    986\u001b[0m             \u001b[0mself\u001b[0m\u001b[1;33m.\u001b[0m\u001b[0m_add_legend_handle\u001b[0m\u001b[1;33m(\u001b[0m\u001b[0mnewlines\u001b[0m\u001b[1;33m[\u001b[0m\u001b[1;36m0\u001b[0m\u001b[1;33m]\u001b[0m\u001b[1;33m,\u001b[0m \u001b[0mlabel\u001b[0m\u001b[1;33m,\u001b[0m \u001b[0mindex\u001b[0m\u001b[1;33m=\u001b[0m\u001b[0mi\u001b[0m\u001b[1;33m)\u001b[0m\u001b[1;33m\u001b[0m\u001b[0m\n\u001b[0;32m    987\u001b[0m \u001b[1;33m\u001b[0m\u001b[0m\n",
      "\u001b[1;32m~\\AppData\\Local\\Continuum\\miniconda3\\lib\\site-packages\\pandas\\plotting\\_core.py\u001b[0m in \u001b[0;36m_ts_plot\u001b[1;34m(cls, ax, x, data, style, **kwds)\u001b[0m\n\u001b[0;32m   1024\u001b[0m         \u001b[0mlines\u001b[0m \u001b[1;33m=\u001b[0m \u001b[0mcls\u001b[0m\u001b[1;33m.\u001b[0m\u001b[0m_plot\u001b[0m\u001b[1;33m(\u001b[0m\u001b[0max\u001b[0m\u001b[1;33m,\u001b[0m \u001b[0mdata\u001b[0m\u001b[1;33m.\u001b[0m\u001b[0mindex\u001b[0m\u001b[1;33m,\u001b[0m \u001b[0mdata\u001b[0m\u001b[1;33m.\u001b[0m\u001b[0mvalues\u001b[0m\u001b[1;33m,\u001b[0m \u001b[0mstyle\u001b[0m\u001b[1;33m=\u001b[0m\u001b[0mstyle\u001b[0m\u001b[1;33m,\u001b[0m \u001b[1;33m**\u001b[0m\u001b[0mkwds\u001b[0m\u001b[1;33m)\u001b[0m\u001b[1;33m\u001b[0m\u001b[0m\n\u001b[0;32m   1025\u001b[0m         \u001b[1;31m# set date formatter, locators and rescale limits\u001b[0m\u001b[1;33m\u001b[0m\u001b[1;33m\u001b[0m\u001b[0m\n\u001b[1;32m-> 1026\u001b[1;33m         \u001b[0mformat_dateaxis\u001b[0m\u001b[1;33m(\u001b[0m\u001b[0max\u001b[0m\u001b[1;33m,\u001b[0m \u001b[0max\u001b[0m\u001b[1;33m.\u001b[0m\u001b[0mfreq\u001b[0m\u001b[1;33m,\u001b[0m \u001b[0mdata\u001b[0m\u001b[1;33m.\u001b[0m\u001b[0mindex\u001b[0m\u001b[1;33m)\u001b[0m\u001b[1;33m\u001b[0m\u001b[0m\n\u001b[0m\u001b[0;32m   1027\u001b[0m         \u001b[1;32mreturn\u001b[0m \u001b[0mlines\u001b[0m\u001b[1;33m\u001b[0m\u001b[0m\n\u001b[0;32m   1028\u001b[0m \u001b[1;33m\u001b[0m\u001b[0m\n",
      "\u001b[1;32m~\\AppData\\Local\\Continuum\\miniconda3\\lib\\site-packages\\pandas\\plotting\\_timeseries.py\u001b[0m in \u001b[0;36mformat_dateaxis\u001b[1;34m(subplot, freq, index)\u001b[0m\n\u001b[0;32m    350\u001b[0m         \u001b[1;32mraise\u001b[0m \u001b[0mTypeError\u001b[0m\u001b[1;33m(\u001b[0m\u001b[1;34m'index type not supported'\u001b[0m\u001b[1;33m)\u001b[0m\u001b[1;33m\u001b[0m\u001b[0m\n\u001b[0;32m    351\u001b[0m \u001b[1;33m\u001b[0m\u001b[0m\n\u001b[1;32m--> 352\u001b[1;33m     \u001b[0mpylab\u001b[0m\u001b[1;33m.\u001b[0m\u001b[0mdraw_if_interactive\u001b[0m\u001b[1;33m(\u001b[0m\u001b[1;33m)\u001b[0m\u001b[1;33m\u001b[0m\u001b[0m\n\u001b[0m",
      "\u001b[1;32m~\\AppData\\Local\\Continuum\\miniconda3\\lib\\site-packages\\IPython\\utils\\decorators.py\u001b[0m in \u001b[0;36mwrapper\u001b[1;34m(*args, **kw)\u001b[0m\n\u001b[0;32m     41\u001b[0m     \u001b[1;32mdef\u001b[0m \u001b[0mwrapper\u001b[0m\u001b[1;33m(\u001b[0m\u001b[1;33m*\u001b[0m\u001b[0margs\u001b[0m\u001b[1;33m,\u001b[0m\u001b[1;33m**\u001b[0m\u001b[0mkw\u001b[0m\u001b[1;33m)\u001b[0m\u001b[1;33m:\u001b[0m\u001b[1;33m\u001b[0m\u001b[0m\n\u001b[0;32m     42\u001b[0m         \u001b[0mwrapper\u001b[0m\u001b[1;33m.\u001b[0m\u001b[0mcalled\u001b[0m \u001b[1;33m=\u001b[0m \u001b[1;32mFalse\u001b[0m\u001b[1;33m\u001b[0m\u001b[0m\n\u001b[1;32m---> 43\u001b[1;33m         \u001b[0mout\u001b[0m \u001b[1;33m=\u001b[0m \u001b[0mfunc\u001b[0m\u001b[1;33m(\u001b[0m\u001b[1;33m*\u001b[0m\u001b[0margs\u001b[0m\u001b[1;33m,\u001b[0m\u001b[1;33m**\u001b[0m\u001b[0mkw\u001b[0m\u001b[1;33m)\u001b[0m\u001b[1;33m\u001b[0m\u001b[0m\n\u001b[0m\u001b[0;32m     44\u001b[0m         \u001b[0mwrapper\u001b[0m\u001b[1;33m.\u001b[0m\u001b[0mcalled\u001b[0m \u001b[1;33m=\u001b[0m \u001b[1;32mTrue\u001b[0m\u001b[1;33m\u001b[0m\u001b[0m\n\u001b[0;32m     45\u001b[0m         \u001b[1;32mreturn\u001b[0m \u001b[0mout\u001b[0m\u001b[1;33m\u001b[0m\u001b[0m\n",
      "\u001b[1;32m~\\AppData\\Local\\Continuum\\miniconda3\\lib\\site-packages\\ipympl\\backend_nbagg.py\u001b[0m in \u001b[0;36mdraw_if_interactive\u001b[1;34m()\u001b[0m\n\u001b[0;32m     56\u001b[0m         \u001b[0mmanager\u001b[0m \u001b[1;33m=\u001b[0m \u001b[0mpylab_helpers\u001b[0m\u001b[1;33m.\u001b[0m\u001b[0mGcf\u001b[0m\u001b[1;33m.\u001b[0m\u001b[0mget_active\u001b[0m\u001b[1;33m(\u001b[0m\u001b[1;33m)\u001b[0m\u001b[1;33m\u001b[0m\u001b[0m\n\u001b[0;32m     57\u001b[0m         \u001b[1;32mif\u001b[0m \u001b[0mmanager\u001b[0m \u001b[1;32mis\u001b[0m \u001b[1;32mnot\u001b[0m \u001b[1;32mNone\u001b[0m\u001b[1;33m:\u001b[0m\u001b[1;33m\u001b[0m\u001b[0m\n\u001b[1;32m---> 58\u001b[1;33m             \u001b[0mmanager\u001b[0m\u001b[1;33m.\u001b[0m\u001b[0mshow\u001b[0m\u001b[1;33m(\u001b[0m\u001b[1;33m)\u001b[0m\u001b[1;33m\u001b[0m\u001b[0m\n\u001b[0m\u001b[0;32m     59\u001b[0m \u001b[1;33m\u001b[0m\u001b[0m\n\u001b[0;32m     60\u001b[0m \u001b[1;32mdef\u001b[0m \u001b[0mconnection_info\u001b[0m\u001b[1;33m(\u001b[0m\u001b[1;33m)\u001b[0m\u001b[1;33m:\u001b[0m\u001b[1;33m\u001b[0m\u001b[0m\n",
      "\u001b[1;32m~\\AppData\\Local\\Continuum\\miniconda3\\lib\\site-packages\\matplotlib\\backend_bases.py\u001b[0m in \u001b[0;36mshow\u001b[1;34m(self)\u001b[0m\n\u001b[0;32m   2685\u001b[0m         \u001b[0moptional\u001b[0m \u001b[0mwarning\u001b[0m\u001b[1;33m.\u001b[0m\u001b[1;33m\u001b[0m\u001b[0m\n\u001b[0;32m   2686\u001b[0m         \"\"\"\n\u001b[1;32m-> 2687\u001b[1;33m         \u001b[1;32mraise\u001b[0m \u001b[0mNonGuiException\u001b[0m\u001b[1;33m(\u001b[0m\u001b[1;33m)\u001b[0m\u001b[1;33m\u001b[0m\u001b[0m\n\u001b[0m\u001b[0;32m   2688\u001b[0m \u001b[1;33m\u001b[0m\u001b[0m\n\u001b[0;32m   2689\u001b[0m     \u001b[1;32mdef\u001b[0m \u001b[0mdestroy\u001b[0m\u001b[1;33m(\u001b[0m\u001b[0mself\u001b[0m\u001b[1;33m)\u001b[0m\u001b[1;33m:\u001b[0m\u001b[1;33m\u001b[0m\u001b[0m\n",
      "\u001b[1;31mNonGuiException\u001b[0m: "
     ]
    },
    {
     "data": {
      "image/png": "[encoded data removed]",
      "text/plain": [
       "<Figure size 792x360 with 1 Axes>"
      ]
     },
     "metadata": {},
     "output_type": "display_data"
    }
   ],
   "source": [
    "%matplotlib inline\n",
    "\n",
    "by_day = cantwt.groupby(cantwt.tweet_time.dt.to_period('D')).size()\n",
    "by_day.plot(figsize=(11,5))"
   ]
  },
  {
   "cell_type": "markdown",
   "metadata": {},
   "source": [
    "Isolate the 20 top days with the most tweets."
   ]
  },
  {
   "cell_type": "code",
   "execution_count": 315,
   "metadata": {},
   "outputs": [
    {
     "data": {
      "text/plain": [
       "tweet_time\n",
       "2017-01-30    697\n",
       "2014-11-21    463\n",
       "2015-03-30    346\n",
       "2017-01-31    332\n",
       "2017-02-01    264\n",
       "2017-01-27    207\n",
       "2016-10-20    203\n",
       "2017-05-06    198\n",
       "2014-07-27    193\n",
       "2016-12-18    144\n",
       "Freq: D, dtype: int64"
      ]
     },
     "execution_count": 315,
     "metadata": {},
     "output_type": "execute_result"
    }
   ],
   "source": [
    "top_days = by_day.sort_values(ascending=False).head(10)\n",
    "top_days"
   ]
  },
  {
   "cell_type": "markdown",
   "metadata": {},
   "source": [
    "The three most tweeted tweets on those days."
   ]
  },
  {
   "cell_type": "code",
   "execution_count": 322,
   "metadata": {},
   "outputs": [
    {
     "data": {
      "text/html": [
       "<div>\n",
       "<style scoped>\n",
       "    .dataframe tbody tr th:only-of-type {\n",
       "        vertical-align: middle;\n",
       "    }\n",
       "\n",
       "    .dataframe tbody tr th {\n",
       "        vertical-align: top;\n",
       "    }\n",
       "\n",
       "    .dataframe thead th {\n",
       "        text-align: right;\n",
       "    }\n",
       "</style>\n",
       "<table border=\"1\" class=\"dataframe\">\n",
       "  <thead>\n",
       "    <tr style=\"text-align: right;\">\n",
       "      <th></th>\n",
       "      <th>tweet_time</th>\n",
       "      <th>clean_tweet</th>\n",
       "      <th>rts</th>\n",
       "    </tr>\n",
       "  </thead>\n",
       "  <tbody>\n",
       "    <tr>\n",
       "      <th>2</th>\n",
       "      <td>2014-07-27</td>\n",
       "      <td>Gaza you are not alone. Love from .</td>\n",
       "      <td>123.0</td>\n",
       "    </tr>\n",
       "    <tr>\n",
       "      <th>1</th>\n",
       "      <td>2014-07-27</td>\n",
       "      <td>Des centaines d'intellectuels dénoncent le soutien d'Ottawa à Israël</td>\n",
       "      <td>58.0</td>\n",
       "    </tr>\n",
       "    <tr>\n",
       "      <th>0</th>\n",
       "      <td>2014-07-27</td>\n",
       "      <td>Activist’s Shock Rant at   Day Rally</td>\n",
       "      <td>0.0</td>\n",
       "    </tr>\n",
       "    <tr>\n",
       "      <th>345</th>\n",
       "      <td>2014-11-21</td>\n",
       "      <td>“:</td>\n",
       "      <td>4.0</td>\n",
       "    </tr>\n",
       "    <tr>\n",
       "      <th>49</th>\n",
       "      <td>2014-11-21</td>\n",
       "      <td>В принципе, Канада-не та страна, на выкрики которой нужно внимание обращать</td>\n",
       "      <td>1.0</td>\n",
       "    </tr>\n",
       "    <tr>\n",
       "      <th>113</th>\n",
       "      <td>2014-11-21</td>\n",
       "      <td>Канада где вы нашли такого Бибера???</td>\n",
       "      <td>1.0</td>\n",
       "    </tr>\n",
       "    <tr>\n",
       "      <th>353</th>\n",
       "      <td>2015-03-30</td>\n",
       "      <td>Un lien entre recruteur de l'Etat islamique et l'ambassade du Canada en Jordanie s'ébruite</td>\n",
       "      <td>61.0</td>\n",
       "    </tr>\n",
       "    <tr>\n",
       "      <th>346</th>\n",
       "      <td>2015-03-30</td>\n",
       "      <td>Les Relations entre le  et les É.-U. sont Orageuses, selon des Experts</td>\n",
       "      <td>0.0</td>\n",
       "    </tr>\n",
       "    <tr>\n",
       "      <th>347</th>\n",
       "      <td>2015-03-30</td>\n",
       "      <td>On the Need to Re-Establish Sensible Diplomatic Relations Between  and the Islamic Republic of</td>\n",
       "      <td>0.0</td>\n",
       "    </tr>\n",
       "    <tr>\n",
       "      <th>529</th>\n",
       "      <td>2016-10-20</td>\n",
       "      <td>We demand to  as   is hurting th sentiments of millions ppl by his hate speeches</td>\n",
       "      <td>57.0</td>\n",
       "    </tr>\n",
       "    <tr>\n",
       "      <th>357</th>\n",
       "      <td>2016-10-20</td>\n",
       "      <td>Canadian embassy needs to attend this matter immediately and make Mr.Fatah stop meddling in Islamic laws</td>\n",
       "      <td>13.0</td>\n",
       "    </tr>\n",
       "    <tr>\n",
       "      <th>528</th>\n",
       "      <td>2016-10-20</td>\n",
       "      <td>Wanna cut his nose and throw it to dogs😡</td>\n",
       "      <td>9.0</td>\n",
       "    </tr>\n",
       "    <tr>\n",
       "      <th>544</th>\n",
       "      <td>2016-12-18</td>\n",
       "      <td>Canadian journo totally crushes MSM reporter on what’s actually going on in</td>\n",
       "      <td>131.0</td>\n",
       "    </tr>\n",
       "    <tr>\n",
       "      <th>545</th>\n",
       "      <td>2016-12-18</td>\n",
       "      <td>Hey, What Happened? Canada Has Only Received 28 Requests for “Trump-Related” refugee Status</td>\n",
       "      <td>24.0</td>\n",
       "    </tr>\n",
       "    <tr>\n",
       "      <th>546</th>\n",
       "      <td>2016-12-18</td>\n",
       "      <td>RT :</td>\n",
       "      <td>0.0</td>\n",
       "    </tr>\n",
       "    <tr>\n",
       "      <th>566</th>\n",
       "      <td>2017-01-27</td>\n",
       "      <td>Liberals Fleeing to Canada Fail to Meet Immigration Standards</td>\n",
       "      <td>2.0</td>\n",
       "    </tr>\n",
       "    <tr>\n",
       "      <th>565</th>\n",
       "      <td>2017-01-27</td>\n",
       "      <td>GM shifting jobs to Mexico -- from Canada</td>\n",
       "      <td>1.0</td>\n",
       "    </tr>\n",
       "    <tr>\n",
       "      <th>563</th>\n",
       "      <td>2017-01-27</td>\n",
       "      <td>Canada may contribute to Dutch-led international abortion fund</td>\n",
       "      <td>0.0</td>\n",
       "    </tr>\n",
       "    <tr>\n",
       "      <th>592</th>\n",
       "      <td>2017-01-30</td>\n",
       "      <td>OOPS: 24 Hours After Canadian Prime Minister Invites Refugees, Terror Attack Occurs…</td>\n",
       "      <td>63.0</td>\n",
       "    </tr>\n",
       "    <tr>\n",
       "      <th>577</th>\n",
       "      <td>2017-01-30</td>\n",
       "      <td>BREAKING : Canada Will Not Allow SINGLE Syrian Men to Seek Refuge</td>\n",
       "      <td>16.0</td>\n",
       "    </tr>\n",
       "    <tr>\n",
       "      <th>578</th>\n",
       "      <td>2017-01-30</td>\n",
       "      <td>BREAKING: Police Arrest Moroccan Student in Quebec Mosque Shooting</td>\n",
       "      <td>11.0</td>\n",
       "    </tr>\n",
       "    <tr>\n",
       "      <th>753</th>\n",
       "      <td>2017-01-31</td>\n",
       "      <td>Multiculturalism inevitably leads to conflict, division and terrorism, whether it's Radical Islamic terrorism or nationalist.</td>\n",
       "      <td>166.0</td>\n",
       "    </tr>\n",
       "    <tr>\n",
       "      <th>749</th>\n",
       "      <td>2017-01-31</td>\n",
       "      <td>Canada offers residency to people stranded by Trump’s travel ban See more :</td>\n",
       "      <td>11.0</td>\n",
       "    </tr>\n",
       "    <tr>\n",
       "      <th>809</th>\n",
       "      <td>2017-01-31</td>\n",
       "      <td>These are the victims of the</td>\n",
       "      <td>3.0</td>\n",
       "    </tr>\n",
       "    <tr>\n",
       "      <th>811</th>\n",
       "      <td>2017-02-01</td>\n",
       "      <td>!!!!!!!😡💩☠️🔥😤👹🕋👺</td>\n",
       "      <td>0.0</td>\n",
       "    </tr>\n",
       "    <tr>\n",
       "      <th>812</th>\n",
       "      <td>2017-02-01</td>\n",
       "      <td>19th-century female artist finally gets credit for works in Canadian gallery</td>\n",
       "      <td>0.0</td>\n",
       "    </tr>\n",
       "    <tr>\n",
       "      <th>813</th>\n",
       "      <td>2017-02-01</td>\n",
       "      <td>Alleged shooter in  was at mosque Thursday, member says</td>\n",
       "      <td>0.0</td>\n",
       "    </tr>\n",
       "    <tr>\n",
       "      <th>1015</th>\n",
       "      <td>2017-05-06</td>\n",
       "      <td>World community &amp;amp;   must rise for Sikhs &amp;amp; Kashmiris</td>\n",
       "      <td>18.0</td>\n",
       "    </tr>\n",
       "    <tr>\n",
       "      <th>1011</th>\n",
       "      <td>2017-05-06</td>\n",
       "      <td>Thanks a lot  for supporting legitimate cause of oppressed Sikhs</td>\n",
       "      <td>15.0</td>\n",
       "    </tr>\n",
       "    <tr>\n",
       "      <th>862</th>\n",
       "      <td>2017-05-06</td>\n",
       "      <td>India is in deep shock as\\n\"</td>\n",
       "      <td>11.0</td>\n",
       "    </tr>\n",
       "  </tbody>\n",
       "</table>\n",
       "</div>"
      ],
      "text/plain": [
       "      tweet_time                                                                                                                    clean_tweet    rts\n",
       "2     2014-07-27                                                                                            Gaza you are not alone. Love from .  123.0\n",
       "1     2014-07-27                                                           Des centaines d'intellectuels dénoncent le soutien d'Ottawa à Israël   58.0\n",
       "0     2014-07-27                                                                                           Activist’s Shock Rant at   Day Rally    0.0\n",
       "345   2014-11-21                                                                                                                             “:    4.0\n",
       "49    2014-11-21                                                    В принципе, Канада-не та страна, на выкрики которой нужно внимание обращать    1.0\n",
       "113   2014-11-21                                                                                           Канада где вы нашли такого Бибера???    1.0\n",
       "353   2015-03-30                                     Un lien entre recruteur de l'Etat islamique et l'ambassade du Canada en Jordanie s'ébruite   61.0\n",
       "346   2015-03-30                                                         Les Relations entre le  et les É.-U. sont Orageuses, selon des Experts    0.0\n",
       "347   2015-03-30                                 On the Need to Re-Establish Sensible Diplomatic Relations Between  and the Islamic Republic of    0.0\n",
       "529   2016-10-20                                               We demand to  as   is hurting th sentiments of millions ppl by his hate speeches   57.0\n",
       "357   2016-10-20                       Canadian embassy needs to attend this matter immediately and make Mr.Fatah stop meddling in Islamic laws   13.0\n",
       "528   2016-10-20                                                                                       Wanna cut his nose and throw it to dogs😡    9.0\n",
       "544   2016-12-18                                                    Canadian journo totally crushes MSM reporter on what’s actually going on in  131.0\n",
       "545   2016-12-18                                    Hey, What Happened? Canada Has Only Received 28 Requests for “Trump-Related” refugee Status   24.0\n",
       "546   2016-12-18                                                                                                                           RT :    0.0\n",
       "566   2017-01-27                                                                  Liberals Fleeing to Canada Fail to Meet Immigration Standards    2.0\n",
       "565   2017-01-27                                                                                      GM shifting jobs to Mexico -- from Canada    1.0\n",
       "563   2017-01-27                                                                 Canada may contribute to Dutch-led international abortion fund    0.0\n",
       "592   2017-01-30                                           OOPS: 24 Hours After Canadian Prime Minister Invites Refugees, Terror Attack Occurs…   63.0\n",
       "577   2017-01-30                                                              BREAKING : Canada Will Not Allow SINGLE Syrian Men to Seek Refuge   16.0\n",
       "578   2017-01-30                                                             BREAKING: Police Arrest Moroccan Student in Quebec Mosque Shooting   11.0\n",
       "753   2017-01-31  Multiculturalism inevitably leads to conflict, division and terrorism, whether it's Radical Islamic terrorism or nationalist.  166.0\n",
       "749   2017-01-31                                                    Canada offers residency to people stranded by Trump’s travel ban See more :   11.0\n",
       "809   2017-01-31                                                                                                   These are the victims of the    3.0\n",
       "811   2017-02-01                                                                                                               !!!!!!!😡💩☠️🔥😤👹🕋👺    0.0\n",
       "812   2017-02-01                                                   19th-century female artist finally gets credit for works in Canadian gallery    0.0\n",
       "813   2017-02-01                                                                        Alleged shooter in  was at mosque Thursday, member says    0.0\n",
       "1015  2017-05-06                                                                    World community &amp;   must rise for Sikhs &amp; Kashmiris   18.0\n",
       "1011  2017-05-06                                                               Thanks a lot  for supporting legitimate cause of oppressed Sikhs   15.0\n",
       "862   2017-05-06                                                                                                   India is in deep shock as\\n\"   11.0"
      ]
     },
     "execution_count": 322,
     "metadata": {},
     "output_type": "execute_result"
    }
   ],
   "source": [
    "# Set aside some columns for easier viewing\n",
    "cols = ['country', 'user_screen_name', 'tweet_time', 'tweet_text', \n",
    "        'clean_tweet', 'follower_count', 'following_count', 'is_retweet', \n",
    "        'like_count', 'reply_count', 'retweet_count']\n",
    "\n",
    "top_day_tweets = cantwt[cantwt.tweet_time.apply(lambda date: date in top_days.index)].sort_values('tweet_time')[cols]\n",
    "\n",
    "( top_day_tweets.groupby([top_day_tweets.tweet_time.dt.date, 'clean_tweet'])\n",
    " .retweet_count\n",
    " .sum()\n",
    " .reset_index(name='rts')\n",
    " .sort_values(['tweet_time', 'rts'], ascending=[1,0])\n",
    " .groupby('tweet_time')\n",
    " .head(3)\n",
    ")"
   ]
  },
  {
   "cell_type": "markdown",
   "metadata": {},
   "source": [
    "Some basic stats by country: total number of tweets, number of unique \"clean tweets\", number of unique accounts, average number of followers, number of unique reported locations."
   ]
  },
  {
   "cell_type": "code",
   "execution_count": 435,
   "metadata": {},
   "outputs": [
    {
     "data": {
      "text/html": [
       "<div>\n",
       "<style scoped>\n",
       "    .dataframe tbody tr th:only-of-type {\n",
       "        vertical-align: middle;\n",
       "    }\n",
       "\n",
       "    .dataframe tbody tr th {\n",
       "        vertical-align: top;\n",
       "    }\n",
       "\n",
       "    .dataframe thead th {\n",
       "        text-align: right;\n",
       "    }\n",
       "</style>\n",
       "<table border=\"1\" class=\"dataframe\">\n",
       "  <thead>\n",
       "    <tr style=\"text-align: right;\">\n",
       "      <th></th>\n",
       "      <th>tweetid</th>\n",
       "      <th>clean_tweet</th>\n",
       "      <th>userid</th>\n",
       "      <th>follower_count</th>\n",
       "      <th>user_reported_location</th>\n",
       "    </tr>\n",
       "    <tr>\n",
       "      <th>country</th>\n",
       "      <th></th>\n",
       "      <th></th>\n",
       "      <th></th>\n",
       "      <th></th>\n",
       "      <th></th>\n",
       "    </tr>\n",
       "  </thead>\n",
       "  <tbody>\n",
       "    <tr>\n",
       "      <th>Bangladesh</th>\n",
       "      <td>9</td>\n",
       "      <td>9</td>\n",
       "      <td>3</td>\n",
       "      <td>1696.888889</td>\n",
       "      <td>2</td>\n",
       "    </tr>\n",
       "    <tr>\n",
       "      <th>Iran</th>\n",
       "      <td>10836</td>\n",
       "      <td>6683</td>\n",
       "      <td>1145</td>\n",
       "      <td>7406.101052</td>\n",
       "      <td>100</td>\n",
       "    </tr>\n",
       "    <tr>\n",
       "      <th>Russia</th>\n",
       "      <td>6525</td>\n",
       "      <td>5385</td>\n",
       "      <td>607</td>\n",
       "      <td>6693.159693</td>\n",
       "      <td>144</td>\n",
       "    </tr>\n",
       "    <tr>\n",
       "      <th>Venezuela</th>\n",
       "      <td>4261</td>\n",
       "      <td>650</td>\n",
       "      <td>417</td>\n",
       "      <td>1091.842760</td>\n",
       "      <td>2</td>\n",
       "    </tr>\n",
       "  </tbody>\n",
       "</table>\n",
       "</div>"
      ],
      "text/plain": [
       "            tweetid  clean_tweet  userid  follower_count  user_reported_location\n",
       "country                                                                         \n",
       "Bangladesh        9            9       3     1696.888889                       2\n",
       "Iran          10836         6683    1145     7406.101052                     100\n",
       "Russia         6525         5385     607     6693.159693                     144\n",
       "Venezuela      4261          650     417     1091.842760                       2"
      ]
     },
     "execution_count": 435,
     "metadata": {},
     "output_type": "execute_result"
    }
   ],
   "source": [
    "cantwt.groupby('country').agg({ 'tweetid' : 'count', \n",
    "                               'clean_tweet' : 'nunique', \n",
    "                               'userid' : 'nunique',\n",
    "                               'follower_count' : 'mean', \n",
    "                               'user_reported_location' : 'nunique'})"
   ]
  },
  {
   "cell_type": "markdown",
   "metadata": {},
   "source": [
    "The five accounts by country that tweeted the most."
   ]
  },
  {
   "cell_type": "code",
   "execution_count": 299,
   "metadata": {},
   "outputs": [
    {
     "data": {
      "text/html": [
       "<div>\n",
       "<style scoped>\n",
       "    .dataframe tbody tr th:only-of-type {\n",
       "        vertical-align: middle;\n",
       "    }\n",
       "\n",
       "    .dataframe tbody tr th {\n",
       "        vertical-align: top;\n",
       "    }\n",
       "\n",
       "    .dataframe thead th {\n",
       "        text-align: right;\n",
       "    }\n",
       "</style>\n",
       "<table border=\"1\" class=\"dataframe\">\n",
       "  <thead>\n",
       "    <tr style=\"text-align: right;\">\n",
       "      <th></th>\n",
       "      <th>country</th>\n",
       "      <th>user_screen_name</th>\n",
       "      <th>count</th>\n",
       "    </tr>\n",
       "  </thead>\n",
       "  <tbody>\n",
       "    <tr>\n",
       "      <th>2</th>\n",
       "      <td>Bangladesh</td>\n",
       "      <td>QGdKV23i9r+ocu2cySQC8J8O0BJmxQLM8n4xB6RQg8=</td>\n",
       "      <td>7</td>\n",
       "    </tr>\n",
       "    <tr>\n",
       "      <th>0</th>\n",
       "      <td>Bangladesh</td>\n",
       "      <td>5yP0DlSBuPEQJIOdniuznIo1Roucbu6jVHZNUnHcei0=</td>\n",
       "      <td>1</td>\n",
       "    </tr>\n",
       "    <tr>\n",
       "      <th>1</th>\n",
       "      <td>Bangladesh</td>\n",
       "      <td>8hYvkOW7QTWoKSZvoR1Ru5nzEMBVFVskc7xepyhQJBo=</td>\n",
       "      <td>1</td>\n",
       "    </tr>\n",
       "    <tr>\n",
       "      <th>771</th>\n",
       "      <td>Iran</td>\n",
       "      <td>cfb431d28838bc87b3473081cc5899cfede8252c2015644ffeccd7b27b1149fb</td>\n",
       "      <td>1484</td>\n",
       "    </tr>\n",
       "    <tr>\n",
       "      <th>945</th>\n",
       "      <td>Iran</td>\n",
       "      <td>marialuis91</td>\n",
       "      <td>856</td>\n",
       "    </tr>\n",
       "    <tr>\n",
       "      <th>203</th>\n",
       "      <td>Iran</td>\n",
       "      <td>6f2245bc7dd9aa440e83508525b3a79188b4218b2cb662a711701eeadc7c3056</td>\n",
       "      <td>776</td>\n",
       "    </tr>\n",
       "    <tr>\n",
       "      <th>573</th>\n",
       "      <td>Iran</td>\n",
       "      <td>RuhidaPTI</td>\n",
       "      <td>488</td>\n",
       "    </tr>\n",
       "    <tr>\n",
       "      <th>20</th>\n",
       "      <td>Iran</td>\n",
       "      <td>02c7119c0fab4e8b2c16a2320cd6759f0220477471f1b094fe3e46ce49894c51</td>\n",
       "      <td>438</td>\n",
       "    </tr>\n",
       "    <tr>\n",
       "      <th>1436</th>\n",
       "      <td>Russia</td>\n",
       "      <td>CathyTo47590555</td>\n",
       "      <td>1279</td>\n",
       "    </tr>\n",
       "    <tr>\n",
       "      <th>1628</th>\n",
       "      <td>Russia</td>\n",
       "      <td>cpGoWRKuWjs4rgU4q2SIgYVvWUMdFkglid14Dd9CQWE=</td>\n",
       "      <td>579</td>\n",
       "    </tr>\n",
       "    <tr>\n",
       "      <th>1722</th>\n",
       "      <td>Russia</td>\n",
       "      <td>l+5xaB0DjZSlsfrmaT91U2DAIM+2tup5IXcAL1KZH0=</td>\n",
       "      <td>549</td>\n",
       "    </tr>\n",
       "    <tr>\n",
       "      <th>1716</th>\n",
       "      <td>Russia</td>\n",
       "      <td>iZ328VglWrG25qPym1bifLoiwXD9v1+A3G4WU5AThso=</td>\n",
       "      <td>487</td>\n",
       "    </tr>\n",
       "    <tr>\n",
       "      <th>1505</th>\n",
       "      <td>Russia</td>\n",
       "      <td>SamInfidel</td>\n",
       "      <td>463</td>\n",
       "    </tr>\n",
       "    <tr>\n",
       "      <th>2043</th>\n",
       "      <td>Venezuela</td>\n",
       "      <td>f4h7ajYblZt70h+rODJu6DfUqfZXAvqvAVap4ImIbw=</td>\n",
       "      <td>186</td>\n",
       "    </tr>\n",
       "    <tr>\n",
       "      <th>2075</th>\n",
       "      <td>Venezuela</td>\n",
       "      <td>kNUUvWPxF9JQoUeDlvMVlAPcpgf9ooSdp5P4kCYung=</td>\n",
       "      <td>171</td>\n",
       "    </tr>\n",
       "    <tr>\n",
       "      <th>1992</th>\n",
       "      <td>Venezuela</td>\n",
       "      <td>XY8MFe9mMtCe9fl0JJLL9ziO9Y6+vJ1Yp8GrDSWaHrM=</td>\n",
       "      <td>79</td>\n",
       "    </tr>\n",
       "    <tr>\n",
       "      <th>2034</th>\n",
       "      <td>Venezuela</td>\n",
       "      <td>dppCN6g3OEAtdPPCo4cNTj5BXy51Qjrr25PaJs6s0=</td>\n",
       "      <td>75</td>\n",
       "    </tr>\n",
       "    <tr>\n",
       "      <th>1851</th>\n",
       "      <td>Venezuela</td>\n",
       "      <td>EnJOMZA4bIqKIG7CS5cI7OPKgxg6HAIo4+AwnWjN44=</td>\n",
       "      <td>73</td>\n",
       "    </tr>\n",
       "  </tbody>\n",
       "</table>\n",
       "</div>"
      ],
      "text/plain": [
       "         country                                                  user_screen_name  count\n",
       "2     Bangladesh                       QGdKV23i9r+ocu2cySQC8J8O0BJmxQLM8n4xB6RQg8=      7\n",
       "0     Bangladesh                      5yP0DlSBuPEQJIOdniuznIo1Roucbu6jVHZNUnHcei0=      1\n",
       "1     Bangladesh                      8hYvkOW7QTWoKSZvoR1Ru5nzEMBVFVskc7xepyhQJBo=      1\n",
       "771         Iran  cfb431d28838bc87b3473081cc5899cfede8252c2015644ffeccd7b27b1149fb   1484\n",
       "945         Iran                                                       marialuis91    856\n",
       "203         Iran  6f2245bc7dd9aa440e83508525b3a79188b4218b2cb662a711701eeadc7c3056    776\n",
       "573         Iran                                                         RuhidaPTI    488\n",
       "20          Iran  02c7119c0fab4e8b2c16a2320cd6759f0220477471f1b094fe3e46ce49894c51    438\n",
       "1436      Russia                                                   CathyTo47590555   1279\n",
       "1628      Russia                      cpGoWRKuWjs4rgU4q2SIgYVvWUMdFkglid14Dd9CQWE=    579\n",
       "1722      Russia                       l+5xaB0DjZSlsfrmaT91U2DAIM+2tup5IXcAL1KZH0=    549\n",
       "1716      Russia                      iZ328VglWrG25qPym1bifLoiwXD9v1+A3G4WU5AThso=    487\n",
       "1505      Russia                                                        SamInfidel    463\n",
       "2043   Venezuela                       f4h7ajYblZt70h+rODJu6DfUqfZXAvqvAVap4ImIbw=    186\n",
       "2075   Venezuela                       kNUUvWPxF9JQoUeDlvMVlAPcpgf9ooSdp5P4kCYung=    171\n",
       "1992   Venezuela                      XY8MFe9mMtCe9fl0JJLL9ziO9Y6+vJ1Yp8GrDSWaHrM=     79\n",
       "2034   Venezuela                        dppCN6g3OEAtdPPCo4cNTj5BXy51Qjrr25PaJs6s0=     75\n",
       "1851   Venezuela                       EnJOMZA4bIqKIG7CS5cI7OPKgxg6HAIo4+AwnWjN44=     73"
      ]
     },
     "execution_count": 299,
     "metadata": {},
     "output_type": "execute_result"
    }
   ],
   "source": [
    "( cantwt.groupby(['country', 'user_screen_name'])\n",
    "         .size()\n",
    "         .reset_index(name='count')\n",
    "         .sort_values(['country', 'count'], ascending= [1,0])\n",
    "         .groupby('country')\n",
    "         .head(5)\n",
    ")"
   ]
  },
  {
   "cell_type": "markdown",
   "metadata": {},
   "source": [
    "Twitter anonymized the accounts that had less than 5,000 followers by hashing the user name. There are the most active non-hashed accounts."
   ]
  },
  {
   "cell_type": "code",
   "execution_count": 428,
   "metadata": {},
   "outputs": [
    {
     "data": {
      "text/plain": [
       "CathyTo47590555    1279\n",
       "marialuis91         856\n",
       "RuhidaPTI           488\n",
       "SamInfidel          463\n",
       "Zabeen_Butt         144\n",
       "RoomOfRumor         115\n",
       "berniecratss         90\n",
       "ScreamyMonkey        88\n",
       "WashingtOnline       67\n",
       "BarackObama_ir       67\n",
       "Seattle_Post         63\n",
       "riseagainstr         54\n",
       "MeettheNews          45\n",
       "real_iran            44\n",
       "DailySanFran         29\n",
       "Name: user_screen_name, dtype: int64"
      ]
     },
     "execution_count": 428,
     "metadata": {},
     "output_type": "execute_result"
    }
   ],
   "source": [
    "top_trolls = cantwt[cantwt.user_screen_name.str.len() < 40].user_screen_name.value_counts().head(15)\n",
    "top_trolls"
   ]
  },
  {
   "cell_type": "markdown",
   "metadata": {},
   "source": [
    "Here's a sample of their tweets."
   ]
  },
  {
   "cell_type": "code",
   "execution_count": 430,
   "metadata": {},
   "outputs": [
    {
     "data": {
      "text/html": [
       "<div>\n",
       "<style scoped>\n",
       "    .dataframe tbody tr th:only-of-type {\n",
       "        vertical-align: middle;\n",
       "    }\n",
       "\n",
       "    .dataframe tbody tr th {\n",
       "        vertical-align: top;\n",
       "    }\n",
       "\n",
       "    .dataframe thead th {\n",
       "        text-align: right;\n",
       "    }\n",
       "</style>\n",
       "<table border=\"1\" class=\"dataframe\">\n",
       "  <thead>\n",
       "    <tr style=\"text-align: right;\">\n",
       "      <th></th>\n",
       "      <th>country</th>\n",
       "      <th>user_screen_name</th>\n",
       "      <th>tweet_time</th>\n",
       "      <th>tweet_text</th>\n",
       "      <th>clean_tweet</th>\n",
       "      <th>follower_count</th>\n",
       "      <th>following_count</th>\n",
       "      <th>is_retweet</th>\n",
       "      <th>like_count</th>\n",
       "      <th>reply_count</th>\n",
       "      <th>retweet_count</th>\n",
       "    </tr>\n",
       "  </thead>\n",
       "  <tbody>\n",
       "    <tr>\n",
       "      <th>620342</th>\n",
       "      <td>Russia</td>\n",
       "      <td>CathyTo47590555</td>\n",
       "      <td>2016-06-11 07:52:00</td>\n",
       "      <td>RT @Ontarible: Trudeau will fail. The Moslems have surfaced, we know how to cut the head off the monster.#BantheQuran #BanShariaLaw https:/…</td>\n",
       "      <td>RT : Trudeau will fail. The Moslems have surfaced, we know how to cut the head off the monster.</td>\n",
       "      <td>8685</td>\n",
       "      <td>1451</td>\n",
       "      <td>True</td>\n",
       "      <td>0.0</td>\n",
       "      <td>0.0</td>\n",
       "      <td>0.0</td>\n",
       "    </tr>\n",
       "    <tr>\n",
       "      <th>272504</th>\n",
       "      <td>Russia</td>\n",
       "      <td>CathyTo47590555</td>\n",
       "      <td>2016-08-10 00:09:00</td>\n",
       "      <td>You're a dumb ass lier and an idiot! Go fly some colors in Canada!</td>\n",
       "      <td>You're a dumb ass lier and an idiot! Go fly some colors in Canada!</td>\n",
       "      <td>8685</td>\n",
       "      <td>1451</td>\n",
       "      <td>False</td>\n",
       "      <td>0.0</td>\n",
       "      <td>0.0</td>\n",
       "      <td>0.0</td>\n",
       "    </tr>\n",
       "    <tr>\n",
       "      <th>962496</th>\n",
       "      <td>Iran</td>\n",
       "      <td>marialuis91</td>\n",
       "      <td>2014-12-22 18:10:00</td>\n",
       "      <td>@winnipegsun what they will never tell you about Christmas http://t.co/ovd4gGlWLE</td>\n",
       "      <td>what they will never tell you about Christmas</td>\n",
       "      <td>8012</td>\n",
       "      <td>1450</td>\n",
       "      <td>False</td>\n",
       "      <td>0.0</td>\n",
       "      <td>0.0</td>\n",
       "      <td>0.0</td>\n",
       "    </tr>\n",
       "    <tr>\n",
       "      <th>935848</th>\n",
       "      <td>Iran</td>\n",
       "      <td>marialuis91</td>\n",
       "      <td>2014-12-23 14:16:00</td>\n",
       "      <td>@CroixRouge_Qc @JdeMontreal ce qu'ils ne vous diront jamais sur Noel http://t.co/QSgH5J9RXT</td>\n",
       "      <td>ce qu'ils ne vous diront jamais sur Noel</td>\n",
       "      <td>8012</td>\n",
       "      <td>1450</td>\n",
       "      <td>False</td>\n",
       "      <td>0.0</td>\n",
       "      <td>0.0</td>\n",
       "      <td>0.0</td>\n",
       "    </tr>\n",
       "    <tr>\n",
       "      <th>451591</th>\n",
       "      <td>Iran</td>\n",
       "      <td>marialuis91</td>\n",
       "      <td>2014-06-26 20:53:00</td>\n",
       "      <td>@CWCanadianRight @FoxNews isis was formed by usa in 2012 http://t.co/NvZMhhUG1x</td>\n",
       "      <td>isis was formed by usa in 2012</td>\n",
       "      <td>8012</td>\n",
       "      <td>1450</td>\n",
       "      <td>False</td>\n",
       "      <td>0.0</td>\n",
       "      <td>1.0</td>\n",
       "      <td>0.0</td>\n",
       "    </tr>\n",
       "    <tr>\n",
       "      <th>429399</th>\n",
       "      <td>Russia</td>\n",
       "      <td>CathyTo47590555</td>\n",
       "      <td>2015-12-27 22:43:00</td>\n",
       "      <td>RT @RavenHUWolf: #Canada's PM Trudeau hand picked - not only by Progressive Virus Left but by Islam too\\n#LiesToldToUs\\n#uspol #cdnpoli https…</td>\n",
       "      <td>RT : 's PM Trudeau hand picked - not only by Progressive Virus Left but by Islam too\\n\\n  https…</td>\n",
       "      <td>8685</td>\n",
       "      <td>1451</td>\n",
       "      <td>True</td>\n",
       "      <td>0.0</td>\n",
       "      <td>0.0</td>\n",
       "      <td>0.0</td>\n",
       "    </tr>\n",
       "    <tr>\n",
       "      <th>92402</th>\n",
       "      <td>Russia</td>\n",
       "      <td>WashingtOnline</td>\n",
       "      <td>2015-01-11 07:19:00</td>\n",
       "      <td>Ortio earns first NHL shutout as Flames edge Canucks 1-0  #hockey</td>\n",
       "      <td>Ortio earns first NHL shutout as Flames edge Canucks 1-0</td>\n",
       "      <td>40762</td>\n",
       "      <td>14404</td>\n",
       "      <td>False</td>\n",
       "      <td>0.0</td>\n",
       "      <td>0.0</td>\n",
       "      <td>0.0</td>\n",
       "    </tr>\n",
       "    <tr>\n",
       "      <th>2213010</th>\n",
       "      <td>Iran</td>\n",
       "      <td>RuhidaPTI</td>\n",
       "      <td>2018-02-15 12:06:00</td>\n",
       "      <td>Dear @JustinTrudeau  you are Great \\n#JustinTrudeauForKhalistan https://t.co/YqpB2f57oH</td>\n",
       "      <td>Dear   you are Great</td>\n",
       "      <td>108690</td>\n",
       "      <td>665</td>\n",
       "      <td>False</td>\n",
       "      <td>3.0</td>\n",
       "      <td>0.0</td>\n",
       "      <td>12.0</td>\n",
       "    </tr>\n",
       "    <tr>\n",
       "      <th>684450</th>\n",
       "      <td>Russia</td>\n",
       "      <td>RoomOfRumor</td>\n",
       "      <td>2016-07-07 19:00:00</td>\n",
       "      <td>Alberta wildfires Canada's costliest-ever natural disaster -report  #environment</td>\n",
       "      <td>Alberta wildfires Canada's costliest-ever natural disaster -report</td>\n",
       "      <td>12357</td>\n",
       "      <td>8501</td>\n",
       "      <td>False</td>\n",
       "      <td>0.0</td>\n",
       "      <td>0.0</td>\n",
       "      <td>0.0</td>\n",
       "    </tr>\n",
       "    <tr>\n",
       "      <th>626293</th>\n",
       "      <td>Russia</td>\n",
       "      <td>CathyTo47590555</td>\n",
       "      <td>2016-06-12 21:49:00</td>\n",
       "      <td>RT @ezralevant: A gay Jewish liberal shows his Islamophilia. In 1933, he would have said Kristallnacht was about broken windows. https://t.…</td>\n",
       "      <td>RT : A gay Jewish liberal shows his Islamophilia. In 1933, he would have said Kristallnacht was about broken windows.</td>\n",
       "      <td>8685</td>\n",
       "      <td>1451</td>\n",
       "      <td>True</td>\n",
       "      <td>0.0</td>\n",
       "      <td>0.0</td>\n",
       "      <td>0.0</td>\n",
       "    </tr>\n",
       "  </tbody>\n",
       "</table>\n",
       "</div>"
      ],
      "text/plain": [
       "        country user_screen_name          tweet_time                                                                                                                                      tweet_text                                                                                                            clean_tweet  follower_count  following_count  is_retweet  like_count  reply_count  retweet_count\n",
       "620342   Russia  CathyTo47590555 2016-06-11 07:52:00    RT @Ontarible: Trudeau will fail. The Moslems have surfaced, we know how to cut the head off the monster.#BantheQuran #BanShariaLaw https:/…                        RT : Trudeau will fail. The Moslems have surfaced, we know how to cut the head off the monster.            8685             1451        True         0.0          0.0            0.0\n",
       "272504   Russia  CathyTo47590555 2016-08-10 00:09:00                                                                              You're a dumb ass lier and an idiot! Go fly some colors in Canada!                                                     You're a dumb ass lier and an idiot! Go fly some colors in Canada!            8685             1451       False         0.0          0.0            0.0\n",
       "962496     Iran      marialuis91 2014-12-22 18:10:00                                                               @winnipegsun what they will never tell you about Christmas http://t.co/ovd4gGlWLE                                                                          what they will never tell you about Christmas            8012             1450       False         0.0          0.0            0.0\n",
       "935848     Iran      marialuis91 2014-12-23 14:16:00                                                     @CroixRouge_Qc @JdeMontreal ce qu'ils ne vous diront jamais sur Noel http://t.co/QSgH5J9RXT                                                                               ce qu'ils ne vous diront jamais sur Noel            8012             1450       False         0.0          0.0            0.0\n",
       "451591     Iran      marialuis91 2014-06-26 20:53:00                                                                 @CWCanadianRight @FoxNews isis was formed by usa in 2012 http://t.co/NvZMhhUG1x                                                                                         isis was formed by usa in 2012            8012             1450       False         0.0          1.0            0.0\n",
       "429399   Russia  CathyTo47590555 2015-12-27 22:43:00  RT @RavenHUWolf: #Canada's PM Trudeau hand picked - not only by Progressive Virus Left but by Islam too\\n#LiesToldToUs\\n#uspol #cdnpoli https…                       RT : 's PM Trudeau hand picked - not only by Progressive Virus Left but by Islam too\\n\\n  https…            8685             1451        True         0.0          0.0            0.0\n",
       "92402    Russia   WashingtOnline 2015-01-11 07:19:00                                                                               Ortio earns first NHL shutout as Flames edge Canucks 1-0  #hockey                                                               Ortio earns first NHL shutout as Flames edge Canucks 1-0           40762            14404       False         0.0          0.0            0.0\n",
       "2213010    Iran        RuhidaPTI 2018-02-15 12:06:00                                                         Dear @JustinTrudeau  you are Great \\n#JustinTrudeauForKhalistan https://t.co/YqpB2f57oH                                                                                                   Dear   you are Great          108690              665       False         3.0          0.0           12.0\n",
       "684450   Russia      RoomOfRumor 2016-07-07 19:00:00                                                                Alberta wildfires Canada's costliest-ever natural disaster -report  #environment                                                     Alberta wildfires Canada's costliest-ever natural disaster -report           12357             8501       False         0.0          0.0            0.0\n",
       "626293   Russia  CathyTo47590555 2016-06-12 21:49:00    RT @ezralevant: A gay Jewish liberal shows his Islamophilia. In 1933, he would have said Kristallnacht was about broken windows. https://t.…  RT : A gay Jewish liberal shows his Islamophilia. In 1933, he would have said Kristallnacht was about broken windows.            8685             1451        True         0.0          0.0            0.0"
      ]
     },
     "execution_count": 430,
     "metadata": {},
     "output_type": "execute_result"
    }
   ],
   "source": [
    "cantwt[cantwt.user_screen_name.isin(top_trolls.index)].sample(10)[cols]"
   ]
  },
  {
   "cell_type": "markdown",
   "metadata": {},
   "source": [
    "Accounts with the most followers."
   ]
  },
  {
   "cell_type": "code",
   "execution_count": 442,
   "metadata": {},
   "outputs": [
    {
     "data": {
      "text/plain": [
       "user_screen_name\n",
       "TEN_GOP            147767.0\n",
       "RuhidaPTI          108690.0\n",
       "IranTalks           94869.0\n",
       "Jenn_Abrams         79152.0\n",
       "Pamela_Moore13      72121.0\n",
       "_zainhamid          69596.0\n",
       "TodayNYCity         66980.0\n",
       "wokeluisa           57295.0\n",
       "Crystal1Johnson     56581.0\n",
       "SouthLoneStar       53999.0\n",
       "coldwar20_ru        53175.0\n",
       "TheFoundingSon      47413.0\n",
       "USA_Gunslinger      44895.0\n",
       "Dua_Shaykh          42300.0\n",
       "WashingtOnline      40762.0\n",
       "Name: follower_count, dtype: float64"
      ]
     },
     "execution_count": 442,
     "metadata": {},
     "output_type": "execute_result"
    }
   ],
   "source": [
    "most_followed = cantwt.groupby('user_screen_name').follower_count.mean().sort_values(ascending=False).head(15)\n",
    "most_followed"
   ]
  },
  {
   "cell_type": "markdown",
   "metadata": {},
   "source": [
    "Sample of tweets by these accounts."
   ]
  },
  {
   "cell_type": "code",
   "execution_count": 444,
   "metadata": {},
   "outputs": [
    {
     "data": {
      "text/html": [
       "<div>\n",
       "<style scoped>\n",
       "    .dataframe tbody tr th:only-of-type {\n",
       "        vertical-align: middle;\n",
       "    }\n",
       "\n",
       "    .dataframe tbody tr th {\n",
       "        vertical-align: top;\n",
       "    }\n",
       "\n",
       "    .dataframe thead th {\n",
       "        text-align: right;\n",
       "    }\n",
       "</style>\n",
       "<table border=\"1\" class=\"dataframe\">\n",
       "  <thead>\n",
       "    <tr style=\"text-align: right;\">\n",
       "      <th></th>\n",
       "      <th>user_screen_name</th>\n",
       "      <th>country</th>\n",
       "      <th>tweet_text</th>\n",
       "    </tr>\n",
       "  </thead>\n",
       "  <tbody>\n",
       "    <tr>\n",
       "      <th>1230790</th>\n",
       "      <td>WashingtOnline</td>\n",
       "      <td>Russia</td>\n",
       "      <td>US, Canada reach gold-medal game at women's hockey worlds  #hockey</td>\n",
       "    </tr>\n",
       "    <tr>\n",
       "      <th>4586406</th>\n",
       "      <td>RuhidaPTI</td>\n",
       "      <td>Iran</td>\n",
       "      <td>RT @sabena_siddiqi: #ShutDownCanadianEmbassy\\nAs a fellow member of Commonwealth, Canada needs to look into Mr.Fatah 's involvement in anti…</td>\n",
       "    </tr>\n",
       "    <tr>\n",
       "      <th>4379275</th>\n",
       "      <td>RuhidaPTI</td>\n",
       "      <td>Iran</td>\n",
       "      <td>#ShutDownCanadianEmbasssy\\nthese 2 are promoting hate against islam and hurting our feelings dear @JustinTrudeau have a look https://t.co/pkd7y4SuKC</td>\n",
       "    </tr>\n",
       "    <tr>\n",
       "      <th>1082541</th>\n",
       "      <td>RuhidaPTI</td>\n",
       "      <td>Iran</td>\n",
       "      <td>سکھوں اور کشمیریوں کے حق خود ارادیت کے مطالبے کو دہراتے ہوئے بھارت میں صرف یہی دو قومیں شناخت کے بحران سے دوچار نہیں ہیں بلکہ کئی مذہبی اور علاقائی قومیتیں اور دلت اپنے بنیادی حقوق کے حصول کے لئے جدوجہد میں مصروف ہیں۔ \\n\\n#JustinTrudeauForKhalistan https://t.co/W7ZXuo1WGv</td>\n",
       "    </tr>\n",
       "    <tr>\n",
       "      <th>1481672</th>\n",
       "      <td>WashingtOnline</td>\n",
       "      <td>Russia</td>\n",
       "      <td>Canucks' Miller makes 22 saves in 5-2 win over Sabres  #hockey</td>\n",
       "    </tr>\n",
       "    <tr>\n",
       "      <th>1547763</th>\n",
       "      <td>Jenn_Abrams</td>\n",
       "      <td>Russia</td>\n",
       "      <td>Mexican President Enrique Pena Nieto meeting with Canadian Prime Minister Justin Trudeau last year https://t.co/8N5EilojL4</td>\n",
       "    </tr>\n",
       "    <tr>\n",
       "      <th>1728277</th>\n",
       "      <td>WashingtOnline</td>\n",
       "      <td>Russia</td>\n",
       "      <td>Virtanen scores 1st NHL goal as Canucks beat Flyers  #hockey</td>\n",
       "    </tr>\n",
       "    <tr>\n",
       "      <th>3293000</th>\n",
       "      <td>RuhidaPTI</td>\n",
       "      <td>Iran</td>\n",
       "      <td>RT @BhaijaFry: Dear @JustinTrudeau\\nCanada is a moderate county. Hate speech by @TarekFatah is unacceptable\\n#ShutDownCanadianEmbassy\\nhttps:/…</td>\n",
       "    </tr>\n",
       "    <tr>\n",
       "      <th>4091863</th>\n",
       "      <td>RuhidaPTI</td>\n",
       "      <td>Iran</td>\n",
       "      <td>RT @AtifMatinansari: India should hold plebiscite in Punjab too #CanadaStandsForKhalistan</td>\n",
       "    </tr>\n",
       "    <tr>\n",
       "      <th>214294</th>\n",
       "      <td>Dua_Shaykh</td>\n",
       "      <td>Iran</td>\n",
       "      <td>RT @SrasheedSalman: There’s a good reason why 86 countries that have diplomatic relations with Israel (including Canada) have their embassi…</td>\n",
       "    </tr>\n",
       "    <tr>\n",
       "      <th>3566167</th>\n",
       "      <td>RuhidaPTI</td>\n",
       "      <td>Iran</td>\n",
       "      <td>RT @sangeen_zadran: #ShutDownCanadianEmbassy\\nThis fat a** should be hanged publicly https://t.co/sSIWlqwxWg</td>\n",
       "    </tr>\n",
       "    <tr>\n",
       "      <th>4199093</th>\n",
       "      <td>RuhidaPTI</td>\n",
       "      <td>Iran</td>\n",
       "      <td>All Canadians stand beside Khalistan warriors. Indian cannot pressurized Trudeau's stance on Khalistan.\\n\\n#JustinTrudeauForKhalistan https://t.co/FBghUagk6J</td>\n",
       "    </tr>\n",
       "    <tr>\n",
       "      <th>827265</th>\n",
       "      <td>WashingtOnline</td>\n",
       "      <td>Russia</td>\n",
       "      <td>Predators acquire Mullen, trade defensemen with Ottawa  #hockey</td>\n",
       "    </tr>\n",
       "    <tr>\n",
       "      <th>1081785</th>\n",
       "      <td>RuhidaPTI</td>\n",
       "      <td>Iran</td>\n",
       "      <td>#CanadaStandsForKhalistan India is very upset when Canadian PM Trudeau attended the  event with Khalistani flags ! https://t.co/TXbJLs90J8</td>\n",
       "    </tr>\n",
       "    <tr>\n",
       "      <th>4329388</th>\n",
       "      <td>RuhidaPTI</td>\n",
       "      <td>Iran</td>\n",
       "      <td>A very Clear message to India!!!\\n#CanadaStandsForKhalistan https://t.co/3SuF89P1G6</td>\n",
       "    </tr>\n",
       "    <tr>\n",
       "      <th>4512405</th>\n",
       "      <td>RuhidaPTI</td>\n",
       "      <td>Iran</td>\n",
       "      <td>RT @UsmanAQayyum: As A Nation And As A Muslim My demand to shut down the Canadian Embassy. #UsmanAQ \\n#ShutDownCanadianEmbassy https://t.co/…</td>\n",
       "    </tr>\n",
       "    <tr>\n",
       "      <th>3384666</th>\n",
       "      <td>RuhidaPTI</td>\n",
       "      <td>Iran</td>\n",
       "      <td>RT @KhatijahFatima: #ShutDownCanadianEmbasssy This hypocrite is spreading abolute nonsense that is nothing to do with Islam.Said Honor Kill…</td>\n",
       "    </tr>\n",
       "    <tr>\n",
       "      <th>2360616</th>\n",
       "      <td>RuhidaPTI</td>\n",
       "      <td>Iran</td>\n",
       "      <td>RT @sangeen_zadran: #ShutDownCanadianEmbassy\\nFilthy mouth can create only filth https://t.co/5CJeLc8Dkn</td>\n",
       "    </tr>\n",
       "    <tr>\n",
       "      <th>1433919</th>\n",
       "      <td>Dua_Shaykh</td>\n",
       "      <td>Iran</td>\n",
       "      <td>RT @iamRidaAli: @Dua_Shaykh @Khan_Ki_junooni @JustinTrudeau @ImranKhanPTI Tears in my eyes ❤</td>\n",
       "    </tr>\n",
       "    <tr>\n",
       "      <th>4202632</th>\n",
       "      <td>RuhidaPTI</td>\n",
       "      <td>Iran</td>\n",
       "      <td>RT @PTI_tsunami: #ShutDownCanadianEmbassy This man Tarek Fateh is hurting religious sentiments around the world. Why is Canada sile… https:…</td>\n",
       "    </tr>\n",
       "  </tbody>\n",
       "</table>\n",
       "</div>"
      ],
      "text/plain": [
       "        user_screen_name country                                                                                                                                                                                                                                                                        tweet_text\n",
       "1230790   WashingtOnline  Russia                                                                                                                                                                                                                US, Canada reach gold-medal game at women's hockey worlds  #hockey\n",
       "4586406        RuhidaPTI    Iran                                                                                                                                      RT @sabena_siddiqi: #ShutDownCanadianEmbassy\\nAs a fellow member of Commonwealth, Canada needs to look into Mr.Fatah 's involvement in anti…\n",
       "4379275        RuhidaPTI    Iran                                                                                                                              #ShutDownCanadianEmbasssy\\nthese 2 are promoting hate against islam and hurting our feelings dear @JustinTrudeau have a look https://t.co/pkd7y4SuKC\n",
       "1082541        RuhidaPTI    Iran  سکھوں اور کشمیریوں کے حق خود ارادیت کے مطالبے کو دہراتے ہوئے بھارت میں صرف یہی دو قومیں شناخت کے بحران سے دوچار نہیں ہیں بلکہ کئی مذہبی اور علاقائی قومیتیں اور دلت اپنے بنیادی حقوق کے حصول کے لئے جدوجہد میں مصروف ہیں۔ \\n\\n#JustinTrudeauForKhalistan https://t.co/W7ZXuo1WGv\n",
       "1481672   WashingtOnline  Russia                                                                                                                                                                                                                    Canucks' Miller makes 22 saves in 5-2 win over Sabres  #hockey\n",
       "1547763      Jenn_Abrams  Russia                                                                                                                                                        Mexican President Enrique Pena Nieto meeting with Canadian Prime Minister Justin Trudeau last year https://t.co/8N5EilojL4\n",
       "1728277   WashingtOnline  Russia                                                                                                                                                                                                                      Virtanen scores 1st NHL goal as Canucks beat Flyers  #hockey\n",
       "3293000        RuhidaPTI    Iran                                                                                                                                   RT @BhaijaFry: Dear @JustinTrudeau\\nCanada is a moderate county. Hate speech by @TarekFatah is unacceptable\\n#ShutDownCanadianEmbassy\\nhttps:/…\n",
       "4091863        RuhidaPTI    Iran                                                                                                                                                                                         RT @AtifMatinansari: India should hold plebiscite in Punjab too #CanadaStandsForKhalistan\n",
       "214294        Dua_Shaykh    Iran                                                                                                                                      RT @SrasheedSalman: There’s a good reason why 86 countries that have diplomatic relations with Israel (including Canada) have their embassi…\n",
       "3566167        RuhidaPTI    Iran                                                                                                                                                                      RT @sangeen_zadran: #ShutDownCanadianEmbassy\\nThis fat a** should be hanged publicly https://t.co/sSIWlqwxWg\n",
       "4199093        RuhidaPTI    Iran                                                                                                                     All Canadians stand beside Khalistan warriors. Indian cannot pressurized Trudeau's stance on Khalistan.\\n\\n#JustinTrudeauForKhalistan https://t.co/FBghUagk6J\n",
       "827265    WashingtOnline  Russia                                                                                                                                                                                                                   Predators acquire Mullen, trade defensemen with Ottawa  #hockey\n",
       "1081785        RuhidaPTI    Iran                                                                                                                                        #CanadaStandsForKhalistan India is very upset when Canadian PM Trudeau attended the  event with Khalistani flags ! https://t.co/TXbJLs90J8\n",
       "4329388        RuhidaPTI    Iran                                                                                                                                                                                               A very Clear message to India!!!\\n#CanadaStandsForKhalistan https://t.co/3SuF89P1G6\n",
       "4512405        RuhidaPTI    Iran                                                                                                                                     RT @UsmanAQayyum: As A Nation And As A Muslim My demand to shut down the Canadian Embassy. #UsmanAQ \\n#ShutDownCanadianEmbassy https://t.co/…\n",
       "3384666        RuhidaPTI    Iran                                                                                                                                      RT @KhatijahFatima: #ShutDownCanadianEmbasssy This hypocrite is spreading abolute nonsense that is nothing to do with Islam.Said Honor Kill…\n",
       "2360616        RuhidaPTI    Iran                                                                                                                                                                          RT @sangeen_zadran: #ShutDownCanadianEmbassy\\nFilthy mouth can create only filth https://t.co/5CJeLc8Dkn\n",
       "1433919       Dua_Shaykh    Iran                                                                                                                                                                                      RT @iamRidaAli: @Dua_Shaykh @Khan_Ki_junooni @JustinTrudeau @ImranKhanPTI Tears in my eyes ❤\n",
       "4202632        RuhidaPTI    Iran                                                                                                                                      RT @PTI_tsunami: #ShutDownCanadianEmbassy This man Tarek Fateh is hurting religious sentiments around the world. Why is Canada sile… https:…"
      ]
     },
     "execution_count": 444,
     "metadata": {},
     "output_type": "execute_result"
    }
   ],
   "source": [
    "cantwt[cantwt.user_screen_name.isin(most_followed.index)][['user_screen_name', 'country', 'tweet_text']].sample(20)"
   ]
  },
  {
   "cell_type": "markdown",
   "metadata": {},
   "source": [
    "The most retweeted tweets."
   ]
  },
  {
   "cell_type": "code",
   "execution_count": 118,
   "metadata": {},
   "outputs": [
    {
     "data": {
      "text/html": [
       "<div>\n",
       "<style scoped>\n",
       "    .dataframe tbody tr th:only-of-type {\n",
       "        vertical-align: middle;\n",
       "    }\n",
       "\n",
       "    .dataframe tbody tr th {\n",
       "        vertical-align: top;\n",
       "    }\n",
       "\n",
       "    .dataframe thead th {\n",
       "        text-align: right;\n",
       "    }\n",
       "</style>\n",
       "<table border=\"1\" class=\"dataframe\">\n",
       "  <thead>\n",
       "    <tr style=\"text-align: right;\">\n",
       "      <th></th>\n",
       "      <th>user_screen_name</th>\n",
       "      <th>tweet_text</th>\n",
       "      <th>retweet_count</th>\n",
       "      <th>tweet_time</th>\n",
       "    </tr>\n",
       "  </thead>\n",
       "  <tbody>\n",
       "    <tr>\n",
       "      <th>630423</th>\n",
       "      <td>TEN_GOP</td>\n",
       "      <td>Dear Mr. Trudeau, please, don't forget to pick these celebrities up on your way back to Canada. Thank you.  #TrudeauMeetsTrump https://t.co/sZ5nyUheHC</td>\n",
       "      <td>2291.0</td>\n",
       "      <td>2017-02-13 21:04:00</td>\n",
       "    </tr>\n",
       "    <tr>\n",
       "      <th>725425</th>\n",
       "      <td>SouthLoneStar</td>\n",
       "      <td>Wow. Unbelievable. Criticism of Islam no longer legal in Canada. What's wrong with you, people? https://t.co/ZDHQe270DL</td>\n",
       "      <td>1798.0</td>\n",
       "      <td>2017-03-23 22:43:00</td>\n",
       "    </tr>\n",
       "    <tr>\n",
       "      <th>934933</th>\n",
       "      <td>wokeluisa</td>\n",
       "      <td>There was a shooting at Great Mills High School in Maryland, United Sates today. There was no shooting in UK today There was no shooting in Australia today There was no shooting in Canada today Th...</td>\n",
       "      <td>1704.0</td>\n",
       "      <td>2018-03-20 20:27:00</td>\n",
       "    </tr>\n",
       "    <tr>\n",
       "      <th>1407414</th>\n",
       "      <td>TEN_GOP</td>\n",
       "      <td>BREAKING NEWS: A huge explosion has been reported in #Toronto, Canada. https://t.co/DHohfpf8Bq</td>\n",
       "      <td>988.0</td>\n",
       "      <td>2017-05-01 22:00:00</td>\n",
       "    </tr>\n",
       "    <tr>\n",
       "      <th>1114909</th>\n",
       "      <td>Pamela_Moore13</td>\n",
       "      <td>.@dbongino: Here’s my advice to liberals: Buy a plane ticket, go up north, and Justin Trudeau can be your president. https://t.co/GxEMLkrBjx</td>\n",
       "      <td>405.0</td>\n",
       "      <td>2017-07-27 22:17:00</td>\n",
       "    </tr>\n",
       "    <tr>\n",
       "      <th>716734</th>\n",
       "      <td>TEN_GOP</td>\n",
       "      <td>Canada: Muslim migrant beats wife with hockey stick for half an hour, says he didn’t know it was against the law.  https://t.co/1FHRPmqiIR https://t.co/S20VBsKQfz</td>\n",
       "      <td>354.0</td>\n",
       "      <td>2017-06-11 20:10:00</td>\n",
       "    </tr>\n",
       "    <tr>\n",
       "      <th>1808383</th>\n",
       "      <td>USA_Gunslinger</td>\n",
       "      <td>Canada: Muslim refugee beats wife with hockey stick for half-hour: @JustinTrudeau's government is outraged by a TWEET not abuse of WOMEN https://t.co/h2uFCFTRO0</td>\n",
       "      <td>336.0</td>\n",
       "      <td>2017-06-25 19:23:00</td>\n",
       "    </tr>\n",
       "    <tr>\n",
       "      <th>428842</th>\n",
       "      <td>Crystal1Johnson</td>\n",
       "      <td>Black rights activist Viola Desmond will be the first Canadian woman to be featured on a bank note! ($10 bill starting 2018).👏🏾 https://t.co/o2Itbu3Ig5</td>\n",
       "      <td>265.0</td>\n",
       "      <td>2016-12-08 20:55:00</td>\n",
       "    </tr>\n",
       "    <tr>\n",
       "      <th>3488091</th>\n",
       "      <td>IsraelWC1</td>\n",
       "      <td>Father of Yasmin Mottawaq (4 yrs old) kissing her for the last time.. #Gaza http://t.co/4Z45BUFnLW</td>\n",
       "      <td>212.0</td>\n",
       "      <td>2014-07-13 07:01:00</td>\n",
       "    </tr>\n",
       "    <tr>\n",
       "      <th>1547763</th>\n",
       "      <td>Jenn_Abrams</td>\n",
       "      <td>Mexican President Enrique Pena Nieto meeting with Canadian Prime Minister Justin Trudeau last year https://t.co/8N5EilojL4</td>\n",
       "      <td>207.0</td>\n",
       "      <td>2016-11-28 17:37:00</td>\n",
       "    </tr>\n",
       "    <tr>\n",
       "      <th>859946</th>\n",
       "      <td>TEN_GOP</td>\n",
       "      <td>Multiculturalism inevitably leads to conflict, division and terrorism, whether it's Radical Islamic terrorism or nationalist. #Quebec</td>\n",
       "      <td>166.0</td>\n",
       "      <td>2017-01-31 00:21:00</td>\n",
       "    </tr>\n",
       "    <tr>\n",
       "      <th>1367436</th>\n",
       "      <td>TEN_GOP</td>\n",
       "      <td>Ontario police cars marked in Arabic above Canadian flag!  Is Canada Muslim country now? https://t.co/OQHjFd7Tpu</td>\n",
       "      <td>161.0</td>\n",
       "      <td>2016-06-03 19:55:00</td>\n",
       "    </tr>\n",
       "    <tr>\n",
       "      <th>842092</th>\n",
       "      <td>RPFront</td>\n",
       "      <td>How to treat a #journalist , #Trump 🇺🇸Vs #Trudeau 🇨🇦 #Canada #DonaldTrump https://t.co/uR7w0GMNjM</td>\n",
       "      <td>133.0</td>\n",
       "      <td>2017-05-25 09:35:00</td>\n",
       "    </tr>\n",
       "    <tr>\n",
       "      <th>480850</th>\n",
       "      <td>toons_online</td>\n",
       "      <td>Zika virus confirmed among 4 Canadian travellers  https://t.co/0fwnklMr7G @toons_online #ZikaVirus #Zika https://t.co/utTFMlAM7H</td>\n",
       "      <td>127.0</td>\n",
       "      <td>2016-01-30 20:17:00</td>\n",
       "    </tr>\n",
       "    <tr>\n",
       "      <th>758395</th>\n",
       "      <td>IsraelWC1</td>\n",
       "      <td>Gaza you are not alone. Love from #Ottawa. #GazaUnderAttack http://t.co/uRoJUrLZ8v</td>\n",
       "      <td>123.0</td>\n",
       "      <td>2014-07-27 04:49:00</td>\n",
       "    </tr>\n",
       "    <tr>\n",
       "      <th>756720</th>\n",
       "      <td>IsraelWC1</td>\n",
       "      <td>.1000s out in Toronto to #FreePalestine !!  http://t.co/FKmZtYFd4k</td>\n",
       "      <td>119.0</td>\n",
       "      <td>2014-07-19 20:30:00</td>\n",
       "    </tr>\n",
       "    <tr>\n",
       "      <th>42840</th>\n",
       "      <td>TEN_GOP</td>\n",
       "      <td>Canadians welcome Illegals! Seems like Canada is true paradise for stupid liberals! #CanadaDay https://t.co/4GDGgjyWsG</td>\n",
       "      <td>118.0</td>\n",
       "      <td>2016-07-01 21:24:00</td>\n",
       "    </tr>\n",
       "    <tr>\n",
       "      <th>795048</th>\n",
       "      <td>TrayneshaCole</td>\n",
       "      <td>- Selina Mendez, protester at a #BlackLivesMatter protest in Toronto https://t.co/dHZ1JEsTMj</td>\n",
       "      <td>94.0</td>\n",
       "      <td>2016-09-18 01:30:00</td>\n",
       "    </tr>\n",
       "    <tr>\n",
       "      <th>756669</th>\n",
       "      <td>TEN_GOP</td>\n",
       "      <td>Toronto police say explosion happened underground during evening rush hour. https://t.co/sWSHzUdw0e</td>\n",
       "      <td>90.0</td>\n",
       "      <td>2017-05-01 22:04:00</td>\n",
       "    </tr>\n",
       "    <tr>\n",
       "      <th>879062</th>\n",
       "      <td>TheFoundingSon</td>\n",
       "      <td>Canadian sniper has shattered the world record for the longest confirmed kill shot in military history at a staggering distance of 3,540m https://t.co/hFgASp3jSs</td>\n",
       "      <td>86.0</td>\n",
       "      <td>2017-06-22 13:48:00</td>\n",
       "    </tr>\n",
       "  </tbody>\n",
       "</table>\n",
       "</div>"
      ],
      "text/plain": [
       "        user_screen_name                                                                                                                                                                                               tweet_text  retweet_count          tweet_time\n",
       "630423           TEN_GOP                                                   Dear Mr. Trudeau, please, don't forget to pick these celebrities up on your way back to Canada. Thank you.  #TrudeauMeetsTrump https://t.co/sZ5nyUheHC         2291.0 2017-02-13 21:04:00\n",
       "725425     SouthLoneStar                                                                                  Wow. Unbelievable. Criticism of Islam no longer legal in Canada. What's wrong with you, people? https://t.co/ZDHQe270DL         1798.0 2017-03-23 22:43:00\n",
       "934933         wokeluisa  There was a shooting at Great Mills High School in Maryland, United Sates today. There was no shooting in UK today There was no shooting in Australia today There was no shooting in Canada today Th...         1704.0 2018-03-20 20:27:00\n",
       "1407414          TEN_GOP                                                                                                           BREAKING NEWS: A huge explosion has been reported in #Toronto, Canada. https://t.co/DHohfpf8Bq          988.0 2017-05-01 22:00:00\n",
       "1114909   Pamela_Moore13                                                             .@dbongino: Here’s my advice to liberals: Buy a plane ticket, go up north, and Justin Trudeau can be your president. https://t.co/GxEMLkrBjx          405.0 2017-07-27 22:17:00\n",
       "716734           TEN_GOP                                       Canada: Muslim migrant beats wife with hockey stick for half an hour, says he didn’t know it was against the law.  https://t.co/1FHRPmqiIR https://t.co/S20VBsKQfz          354.0 2017-06-11 20:10:00\n",
       "1808383   USA_Gunslinger                                         Canada: Muslim refugee beats wife with hockey stick for half-hour: @JustinTrudeau's government is outraged by a TWEET not abuse of WOMEN https://t.co/h2uFCFTRO0          336.0 2017-06-25 19:23:00\n",
       "428842   Crystal1Johnson                                                  Black rights activist Viola Desmond will be the first Canadian woman to be featured on a bank note! ($10 bill starting 2018).👏🏾 https://t.co/o2Itbu3Ig5          265.0 2016-12-08 20:55:00\n",
       "3488091        IsraelWC1                                                                                                       Father of Yasmin Mottawaq (4 yrs old) kissing her for the last time.. #Gaza http://t.co/4Z45BUFnLW          212.0 2014-07-13 07:01:00\n",
       "1547763      Jenn_Abrams                                                                               Mexican President Enrique Pena Nieto meeting with Canadian Prime Minister Justin Trudeau last year https://t.co/8N5EilojL4          207.0 2016-11-28 17:37:00\n",
       "859946           TEN_GOP                                                                    Multiculturalism inevitably leads to conflict, division and terrorism, whether it's Radical Islamic terrorism or nationalist. #Quebec          166.0 2017-01-31 00:21:00\n",
       "1367436          TEN_GOP                                                                                         Ontario police cars marked in Arabic above Canadian flag!  Is Canada Muslim country now? https://t.co/OQHjFd7Tpu          161.0 2016-06-03 19:55:00\n",
       "842092           RPFront                                                                                                        How to treat a #journalist , #Trump 🇺🇸Vs #Trudeau 🇨🇦 #Canada #DonaldTrump https://t.co/uR7w0GMNjM          133.0 2017-05-25 09:35:00\n",
       "480850      toons_online                                                                         Zika virus confirmed among 4 Canadian travellers  https://t.co/0fwnklMr7G @toons_online #ZikaVirus #Zika https://t.co/utTFMlAM7H          127.0 2016-01-30 20:17:00\n",
       "758395         IsraelWC1                                                                                                                       Gaza you are not alone. Love from #Ottawa. #GazaUnderAttack http://t.co/uRoJUrLZ8v          123.0 2014-07-27 04:49:00\n",
       "756720         IsraelWC1                                                                                                                                       .1000s out in Toronto to #FreePalestine !!  http://t.co/FKmZtYFd4k          119.0 2014-07-19 20:30:00\n",
       "42840            TEN_GOP                                                                                   Canadians welcome Illegals! Seems like Canada is true paradise for stupid liberals! #CanadaDay https://t.co/4GDGgjyWsG          118.0 2016-07-01 21:24:00\n",
       "795048     TrayneshaCole                                                                                                             - Selina Mendez, protester at a #BlackLivesMatter protest in Toronto https://t.co/dHZ1JEsTMj           94.0 2016-09-18 01:30:00\n",
       "756669           TEN_GOP                                                                                                      Toronto police say explosion happened underground during evening rush hour. https://t.co/sWSHzUdw0e           90.0 2017-05-01 22:04:00\n",
       "879062    TheFoundingSon                                        Canadian sniper has shattered the world record for the longest confirmed kill shot in military history at a staggering distance of 3,540m https://t.co/hFgASp3jSs           86.0 2017-06-22 13:48:00"
      ]
     },
     "execution_count": 118,
     "metadata": {},
     "output_type": "execute_result"
    }
   ],
   "source": [
    "most_retweeted = cantwt.retweet_count.nlargest(20).index\n",
    "cantwt.loc[most_retweeted][['user_screen_name','tweet_text', 'retweet_count', 'tweet_time']]"
   ]
  },
  {
   "cell_type": "markdown",
   "metadata": {},
   "source": [
    "Extract the hashtags from the hashtags column and add them to a single list. Then find the 30 most common."
   ]
  },
  {
   "cell_type": "code",
   "execution_count": 543,
   "metadata": {},
   "outputs": [
    {
     "data": {
      "text/plain": [
       "[('canada', 2226),\n",
       " ('cdnpoli', 558),\n",
       " ('nocanada', 476),\n",
       " ('toronto', 358),\n",
       " ('breaking', 225),\n",
       " ('canadian', 198),\n",
       " ('quebec', 195),\n",
       " ('news', 183),\n",
       " ('канададно', 178),\n",
       " ('nodapl', 176),\n",
       " ('canadastandsforkhalistan', 176),\n",
       " ('nature', 155),\n",
       " ('trudeau', 146),\n",
       " ('tcot', 142),\n",
       " ('trump', 142),\n",
       " ('shutdowncanadianembassy', 139),\n",
       " ('sports', 138),\n",
       " ('photography', 136),\n",
       " ('science', 133),\n",
       " ('ottawa', 128),\n",
       " ('ontario', 128),\n",
       " ('syria', 125),\n",
       " ('ненавижуканадузабибера', 121),\n",
       " ('art', 116),\n",
       " ('islam', 115),\n",
       " ('refugees', 113),\n",
       " ('maga', 112),\n",
       " ('islamophobia', 112),\n",
       " ('sky', 105),\n",
       " ('muslim', 104)]"
      ]
     },
     "execution_count": 543,
     "metadata": {},
     "output_type": "execute_result"
    }
   ],
   "source": [
    "from collections import Counter\n",
    "\n",
    "hts = []\n",
    "\n",
    "for i, row in cantwt.hashtags.iteritems():\n",
    "    if pd.isna(row):\n",
    "        continue\n",
    "    words = row.replace('[', '').replace(']', '').split(',')\n",
    "    hts.extend(words)\n",
    "    \n",
    "hts = [word.lower().strip() for word in hts if word != '']\n",
    "Counter(hts).most_common(30)"
   ]
  },
  {
   "cell_type": "markdown",
   "metadata": {},
   "source": [
    "The most mentioned twitter accounts in the tweets."
   ]
  },
  {
   "cell_type": "code",
   "execution_count": 302,
   "metadata": {},
   "outputs": [
    {
     "data": {
      "text/plain": [
       "@JustinTrudeau                                  412\n",
       "@CBCNews                                        273\n",
       "@libertyfrontpr                                 267\n",
       "@TheRebelTV                                     265\n",
       "@realDonaldTrump                                243\n",
       "@ezralevant                                     229\n",
       "@Albertainfidel                                 208\n",
       "@UltraCruzCanada                                173\n",
       "@CathyTo47590555                                165\n",
       "@RT_com                                         131\n",
       "@TarekFatah                                      89\n",
       "@globeandmail                                    89\n",
       "@XWKa8xvfp99Ut6                                  85\n",
       "@RadioCanadaInfo                                 83\n",
       "@newsfoxlive                                     82\n",
       "@POTUS                                           80\n",
       "@slCQiqY0eEbvivFdsAw5w5Fqa24wDgyeeaQWcaIoXt0     76\n",
       "@YouTube                                         73\n",
       "@HuffPostQuebec                                  68\n",
       "@PressTV                                         65\n",
       "Name: 0, dtype: int64"
      ]
     },
     "execution_count": 302,
     "metadata": {},
     "output_type": "execute_result"
    }
   ],
   "source": [
    "mentions = cantwt.tweet_text.str.extractall('(@\\w+)')\n",
    "mentions[0].value_counts().head(20)"
   ]
  },
  {
   "cell_type": "markdown",
   "metadata": {},
   "source": [
    "The most retweeted accounts by trolls. The data only has the number ID of the account. I used the service [TwitterID](https://tweeterid.com/) to get their user names.\n",
    "\n",
    "The top IDs that still exist are:\n",
    "\n",
    "* 6433472 => @CBCNews\n",
    "* 3018960919 => @TheRebelTV\n",
    "* 20878297 => @ezralevant\n",
    "* 64643056 => @RT_com\n",
    "* 192547775 => @PressTV\n",
    "* 8736882 => @globeandmail\n",
    "* 25073877 => @realDonaldTrump\n",
    "* 15088481 => @MikeHudema\n"
   ]
  },
  {
   "cell_type": "code",
   "execution_count": 303,
   "metadata": {},
   "outputs": [
    {
     "data": {
      "text/plain": [
       "6433472.0                196\n",
       "3018960919.0             191\n",
       "7.083586507214889e+17    167\n",
       "853144291560042496       163\n",
       "2997416048.0             158\n",
       "20878297.0               148\n",
       "64643056.0               120\n",
       "8.531442915600425e+17    108\n",
       "3296356807.0              85\n",
       "7.296947764723139e+17     76\n",
       "7.528663248634552e+17     76\n",
       "192547775.0               57\n",
       "8736882.0                 54\n",
       "15088481.0                53\n",
       "25073877.0                53\n",
       "Name: retweet_userid, dtype: int64"
      ]
     },
     "execution_count": 303,
     "metadata": {},
     "output_type": "execute_result"
    }
   ],
   "source": [
    "cantwt[cantwt.is_retweet].retweet_userid.value_counts().head(15)"
   ]
  },
  {
   "cell_type": "markdown",
   "metadata": {},
   "source": [
    "### Tweets that mention pipleines\n",
    "\n",
    "The code below searches specifically for tweets about Canada's pipelines."
   ]
  },
  {
   "cell_type": "code",
   "execution_count": 6,
   "metadata": {},
   "outputs": [
    {
     "name": "stderr",
     "output_type": "stream",
     "text": [
      "C:\\Users\\rochar\\AppData\\Local\\Continuum\\miniconda3\\lib\\site-packages\\ipykernel_launcher.py:1: UserWarning: This pattern has match groups. To actually get the groups, use str.extract.\n",
      "  \"\"\"Entry point for launching an IPython kernel.\n"
     ]
    }
   ],
   "source": [
    "pipelines = cantwt[cantwt.tweet_text.str.contains('(pipeline|keystone|enbridge|nodapl|transcanada|kinder ?morgan)', case=False)]"
   ]
  },
  {
   "cell_type": "markdown",
   "metadata": {},
   "source": [
    "Number of tweets by country of origin"
   ]
  },
  {
   "cell_type": "code",
   "execution_count": 7,
   "metadata": {},
   "outputs": [
    {
     "data": {
      "text/plain": [
       "Iran         388\n",
       "Russia       140\n",
       "Venezuela     40\n",
       "Name: country, dtype: int64"
      ]
     },
     "execution_count": 7,
     "metadata": {},
     "output_type": "execute_result"
    }
   ],
   "source": [
    "pipelines.country.value_counts()"
   ]
  },
  {
   "cell_type": "markdown",
   "metadata": {},
   "source": [
    "Percent of tweets about pipleines by country of origin.\n",
    "\n",
    "Calculated as number of tweets about pipelines over total tweets about Canada."
   ]
  },
  {
   "cell_type": "code",
   "execution_count": 8,
   "metadata": {},
   "outputs": [
    {
     "data": {
      "text/plain": [
       "Bangladesh         NaN\n",
       "Iran          3.580657\n",
       "Russia        2.145594\n",
       "Venezuela     0.938747\n",
       "Name: country, dtype: float64"
      ]
     },
     "execution_count": 8,
     "metadata": {},
     "output_type": "execute_result"
    }
   ],
   "source": [
    "(pipelines.country.value_counts() / cantwt.country.value_counts()) * 100"
   ]
  },
  {
   "cell_type": "markdown",
   "metadata": {},
   "source": [
    "Number of unique accounts that tweeted about pipelines"
   ]
  },
  {
   "cell_type": "code",
   "execution_count": 9,
   "metadata": {},
   "outputs": [
    {
     "data": {
      "text/plain": [
       "245"
      ]
     },
     "execution_count": 9,
     "metadata": {},
     "output_type": "execute_result"
    }
   ],
   "source": [
    "len(pipelines.user_screen_name.unique())"
   ]
  },
  {
   "cell_type": "markdown",
   "metadata": {},
   "source": [
    "The most common hashtags in pipleine tweets"
   ]
  },
  {
   "cell_type": "code",
   "execution_count": 449,
   "metadata": {},
   "outputs": [
    {
     "data": {
      "text/plain": [
       "#NoDAPL               154\n",
       "#KeystoneXL            88\n",
       "#NoKXL                 71\n",
       "#cdnpoli               59\n",
       "#Keystone              21\n",
       "#WaterIsLife           20\n",
       "#KinderMorgan          18\n",
       "#politics              18\n",
       "#Canada                14\n",
       "#bcpoli                14\n",
       "#news                  13\n",
       "#StopKM                13\n",
       "#KeepItInTheGround     11\n",
       "#NoKeystoneXL          11\n",
       "#stopKM                11\n",
       "Name: 0, dtype: int64"
      ]
     },
     "execution_count": 449,
     "metadata": {},
     "output_type": "execute_result"
    }
   ],
   "source": [
    "pipelines.tweet_text.str.extractall('(#\\w+)')[0].value_counts().head(15)"
   ]
  },
  {
   "cell_type": "markdown",
   "metadata": {},
   "source": [
    "Create a chart showing the relative frequency of tweets by topic. In this case, the topics are immigration, pipelines and terrorism.\n",
    "\n",
    "First, create a table with the number of tweets by day for each topic."
   ]
  },
  {
   "cell_type": "code",
   "execution_count": 551,
   "metadata": {},
   "outputs": [
    {
     "name": "stderr",
     "output_type": "stream",
     "text": [
      "C:\\Users\\rochar\\AppData\\Local\\Continuum\\miniconda3\\lib\\site-packages\\ipykernel_launcher.py:8: UserWarning: This pattern has match groups. To actually get the groups, use str.extract.\n",
      "  \n",
      "C:\\Users\\rochar\\AppData\\Local\\Continuum\\miniconda3\\lib\\site-packages\\ipykernel_launcher.py:8: UserWarning: This pattern has match groups. To actually get the groups, use str.extract.\n",
      "  \n",
      "C:\\Users\\rochar\\AppData\\Local\\Continuum\\miniconda3\\lib\\site-packages\\ipykernel_launcher.py:8: UserWarning: This pattern has match groups. To actually get the groups, use str.extract.\n",
      "  \n"
     ]
    },
    {
     "data": {
      "text/html": [
       "<div>\n",
       "<style scoped>\n",
       "    .dataframe tbody tr th:only-of-type {\n",
       "        vertical-align: middle;\n",
       "    }\n",
       "\n",
       "    .dataframe tbody tr th {\n",
       "        vertical-align: top;\n",
       "    }\n",
       "\n",
       "    .dataframe thead th {\n",
       "        text-align: right;\n",
       "    }\n",
       "</style>\n",
       "<table border=\"1\" class=\"dataframe\">\n",
       "  <thead>\n",
       "    <tr style=\"text-align: right;\">\n",
       "      <th></th>\n",
       "      <th>date</th>\n",
       "      <th>issue</th>\n",
       "      <th>tweets</th>\n",
       "    </tr>\n",
       "  </thead>\n",
       "  <tbody>\n",
       "    <tr>\n",
       "      <th>0</th>\n",
       "      <td>2014-01-15</td>\n",
       "      <td>Pipelines</td>\n",
       "      <td>2.0</td>\n",
       "    </tr>\n",
       "    <tr>\n",
       "      <th>1</th>\n",
       "      <td>2014-01-16</td>\n",
       "      <td>Immigration</td>\n",
       "      <td>1.0</td>\n",
       "    </tr>\n",
       "    <tr>\n",
       "      <th>2</th>\n",
       "      <td>2014-01-17</td>\n",
       "      <td>Immigration</td>\n",
       "      <td>1.0</td>\n",
       "    </tr>\n",
       "    <tr>\n",
       "      <th>3</th>\n",
       "      <td>2014-02-04</td>\n",
       "      <td>Pipelines</td>\n",
       "      <td>2.0</td>\n",
       "    </tr>\n",
       "    <tr>\n",
       "      <th>4</th>\n",
       "      <td>2014-03-03</td>\n",
       "      <td>Pipelines</td>\n",
       "      <td>2.0</td>\n",
       "    </tr>\n",
       "    <tr>\n",
       "      <th>5</th>\n",
       "      <td>2014-03-05</td>\n",
       "      <td>Immigration</td>\n",
       "      <td>2.0</td>\n",
       "    </tr>\n",
       "    <tr>\n",
       "      <th>6</th>\n",
       "      <td>2014-04-28</td>\n",
       "      <td>Immigration</td>\n",
       "      <td>1.0</td>\n",
       "    </tr>\n",
       "    <tr>\n",
       "      <th>7</th>\n",
       "      <td>2014-04-28</td>\n",
       "      <td>Terrorism</td>\n",
       "      <td>1.0</td>\n",
       "    </tr>\n",
       "    <tr>\n",
       "      <th>8</th>\n",
       "      <td>2014-04-29</td>\n",
       "      <td>Pipelines</td>\n",
       "      <td>1.0</td>\n",
       "    </tr>\n",
       "    <tr>\n",
       "      <th>9</th>\n",
       "      <td>2014-05-07</td>\n",
       "      <td>Terrorism</td>\n",
       "      <td>2.0</td>\n",
       "    </tr>\n",
       "  </tbody>\n",
       "</table>\n",
       "</div>"
      ],
      "text/plain": [
       "        date        issue  tweets\n",
       "0 2014-01-15    Pipelines     2.0\n",
       "1 2014-01-16  Immigration     1.0\n",
       "2 2014-01-17  Immigration     1.0\n",
       "3 2014-02-04    Pipelines     2.0\n",
       "4 2014-03-03    Pipelines     2.0\n",
       "5 2014-03-05  Immigration     2.0\n",
       "6 2014-04-28  Immigration     1.0\n",
       "7 2014-04-28    Terrorism     1.0\n",
       "8 2014-04-29    Pipelines     1.0\n",
       "9 2014-05-07    Terrorism     2.0"
      ]
     },
     "execution_count": 551,
     "metadata": {},
     "output_type": "execute_result"
    }
   ],
   "source": [
    "# Search terms for each topic\n",
    "search_terms = dict(Immigration = '(immigration|(im)?migrant|refugee|border)',\n",
    "                Pipelines = '(pipeline|keystone|enbridge|nodapl|transcanada|kinder ?morgan)',\n",
    "                Terrorism = 'terror(is[tm])?')\n",
    "\n",
    "issue_volumes = pd.DataFrame(index= pd.date_range(start = '2014-01-01', end=cantwt.tweet_time.max(), freq='D'))\n",
    "\n",
    "for topic, regex in search_terms.items():\n",
    "    search = cantwt[cantwt.tweet_text.str.contains(regex, case = False)]\n",
    "    daily_vol = search.groupby(search.tweet_time.dt.date).size()\n",
    "    issue_volumes[topic] = daily_vol\n",
    "  \n",
    "issue_volumes.index = pd.to_datetime(issue_volumes.index)\n",
    "issue_volumes = issue_volumes.stack().reset_index()\n",
    "issue_volumes.columns = ['date', 'issue', 'tweets']\n",
    "issue_volumes.head(10)"
   ]
  },
  {
   "cell_type": "markdown",
   "metadata": {},
   "source": [
    "Plot the numbers with Seaborn"
   ]
  },
  {
   "cell_type": "code",
   "execution_count": 558,
   "metadata": {},
   "outputs": [
    {
     "name": "stderr",
     "output_type": "stream",
     "text": [
      "C:\\Users\\rochar\\AppData\\Local\\Continuum\\miniconda3\\lib\\site-packages\\seaborn\\axisgrid.py:230: UserWarning: The `size` paramter has been renamed to `height`; please update your code.\n",
      "  warnings.warn(msg, UserWarning)\n"
     ]
    },
    {
     "data": {
      "image/png": "[encoded data removed]",
      "text/plain": [
       "<Figure size 648x648 with 3 Axes>"
      ]
     },
     "metadata": {},
     "output_type": "display_data"
    }
   ],
   "source": [
    "import seaborn as sns\n",
    "\n",
    "( sns.FacetGrid(issue_volumes, col='issue', col_wrap= 1, hue = 'issue', size=3, aspect=3)\n",
    "   .map(plt.plot, 'date', 'tweets').set_titles('{col_name}')\n",
    ")"
   ]
  },
  {
   "cell_type": "markdown",
   "metadata": {},
   "source": [
    "Sort the table of tweets by issue to see the most active data for each."
   ]
  },
  {
   "cell_type": "code",
   "execution_count": 545,
   "metadata": {},
   "outputs": [
    {
     "data": {
      "text/html": [
       "<div>\n",
       "<style scoped>\n",
       "    .dataframe tbody tr th:only-of-type {\n",
       "        vertical-align: middle;\n",
       "    }\n",
       "\n",
       "    .dataframe tbody tr th {\n",
       "        vertical-align: top;\n",
       "    }\n",
       "\n",
       "    .dataframe thead th {\n",
       "        text-align: right;\n",
       "    }\n",
       "</style>\n",
       "<table border=\"1\" class=\"dataframe\">\n",
       "  <thead>\n",
       "    <tr style=\"text-align: right;\">\n",
       "      <th></th>\n",
       "      <th>date</th>\n",
       "      <th>issue</th>\n",
       "      <th>tweets</th>\n",
       "    </tr>\n",
       "  </thead>\n",
       "  <tbody>\n",
       "    <tr>\n",
       "      <th>387</th>\n",
       "      <td>2017-01-28</td>\n",
       "      <td>Immigration</td>\n",
       "      <td>125.0</td>\n",
       "    </tr>\n",
       "    <tr>\n",
       "      <th>394</th>\n",
       "      <td>2017-01-31</td>\n",
       "      <td>Immigration</td>\n",
       "      <td>94.0</td>\n",
       "    </tr>\n",
       "    <tr>\n",
       "      <th>147</th>\n",
       "      <td>2015-09-08</td>\n",
       "      <td>Immigration</td>\n",
       "      <td>94.0</td>\n",
       "    </tr>\n",
       "    <tr>\n",
       "      <th>602</th>\n",
       "      <td>2017-08-08</td>\n",
       "      <td>Immigration</td>\n",
       "      <td>73.0</td>\n",
       "    </tr>\n",
       "    <tr>\n",
       "      <th>393</th>\n",
       "      <td>2017-01-30</td>\n",
       "      <td>Terror</td>\n",
       "      <td>59.0</td>\n",
       "    </tr>\n",
       "    <tr>\n",
       "      <th>577</th>\n",
       "      <td>2017-07-15</td>\n",
       "      <td>Immigration</td>\n",
       "      <td>57.0</td>\n",
       "    </tr>\n",
       "    <tr>\n",
       "      <th>566</th>\n",
       "      <td>2017-07-04</td>\n",
       "      <td>Terror</td>\n",
       "      <td>52.0</td>\n",
       "    </tr>\n",
       "    <tr>\n",
       "      <th>570</th>\n",
       "      <td>2017-07-09</td>\n",
       "      <td>Terror</td>\n",
       "      <td>50.0</td>\n",
       "    </tr>\n",
       "    <tr>\n",
       "      <th>567</th>\n",
       "      <td>2017-07-05</td>\n",
       "      <td>Terror</td>\n",
       "      <td>50.0</td>\n",
       "    </tr>\n",
       "    <tr>\n",
       "      <th>363</th>\n",
       "      <td>2016-12-18</td>\n",
       "      <td>Immigration</td>\n",
       "      <td>48.0</td>\n",
       "    </tr>\n",
       "    <tr>\n",
       "      <th>382</th>\n",
       "      <td>2017-01-24</td>\n",
       "      <td>Pipelines</td>\n",
       "      <td>47.0</td>\n",
       "    </tr>\n",
       "    <tr>\n",
       "      <th>398</th>\n",
       "      <td>2017-02-02</td>\n",
       "      <td>Immigration</td>\n",
       "      <td>39.0</td>\n",
       "    </tr>\n",
       "    <tr>\n",
       "      <th>633</th>\n",
       "      <td>2017-10-01</td>\n",
       "      <td>Terror</td>\n",
       "      <td>38.0</td>\n",
       "    </tr>\n",
       "    <tr>\n",
       "      <th>360</th>\n",
       "      <td>2016-12-14</td>\n",
       "      <td>Terror</td>\n",
       "      <td>37.0</td>\n",
       "    </tr>\n",
       "    <tr>\n",
       "      <th>623</th>\n",
       "      <td>2017-08-26</td>\n",
       "      <td>Immigration</td>\n",
       "      <td>34.0</td>\n",
       "    </tr>\n",
       "    <tr>\n",
       "      <th>391</th>\n",
       "      <td>2017-01-30</td>\n",
       "      <td>Immigration</td>\n",
       "      <td>32.0</td>\n",
       "    </tr>\n",
       "    <tr>\n",
       "      <th>627</th>\n",
       "      <td>2017-09-03</td>\n",
       "      <td>Immigration</td>\n",
       "      <td>31.0</td>\n",
       "    </tr>\n",
       "    <tr>\n",
       "      <th>411</th>\n",
       "      <td>2017-02-13</td>\n",
       "      <td>Immigration</td>\n",
       "      <td>30.0</td>\n",
       "    </tr>\n",
       "    <tr>\n",
       "      <th>625</th>\n",
       "      <td>2017-08-28</td>\n",
       "      <td>Terror</td>\n",
       "      <td>29.0</td>\n",
       "    </tr>\n",
       "    <tr>\n",
       "      <th>461</th>\n",
       "      <td>2017-03-24</td>\n",
       "      <td>Pipelines</td>\n",
       "      <td>17.0</td>\n",
       "    </tr>\n",
       "  </tbody>\n",
       "</table>\n",
       "</div>"
      ],
      "text/plain": [
       "          date        issue  tweets\n",
       "387 2017-01-28  Immigration   125.0\n",
       "394 2017-01-31  Immigration    94.0\n",
       "147 2015-09-08  Immigration    94.0\n",
       "602 2017-08-08  Immigration    73.0\n",
       "393 2017-01-30       Terror    59.0\n",
       "577 2017-07-15  Immigration    57.0\n",
       "566 2017-07-04       Terror    52.0\n",
       "570 2017-07-09       Terror    50.0\n",
       "567 2017-07-05       Terror    50.0\n",
       "363 2016-12-18  Immigration    48.0\n",
       "382 2017-01-24    Pipelines    47.0\n",
       "398 2017-02-02  Immigration    39.0\n",
       "633 2017-10-01       Terror    38.0\n",
       "360 2016-12-14       Terror    37.0\n",
       "623 2017-08-26  Immigration    34.0\n",
       "391 2017-01-30  Immigration    32.0\n",
       "627 2017-09-03  Immigration    31.0\n",
       "411 2017-02-13  Immigration    30.0\n",
       "625 2017-08-28       Terror    29.0\n",
       "461 2017-03-24    Pipelines    17.0"
      ]
     },
     "execution_count": 545,
     "metadata": {},
     "output_type": "execute_result"
    }
   ],
   "source": [
    "issue_volumes.sort_values('tweets', ascending=False).head(20)"
   ]
  },
  {
   "cell_type": "markdown",
   "metadata": {},
   "source": [
    "A sample of tweets that mention the QAnon conspiracy theory."
   ]
  },
  {
   "cell_type": "code",
   "execution_count": 5,
   "metadata": {},
   "outputs": [
    {
     "data": {
      "text/plain": [
       "25093             RT @Awakentothyself: #QAnon #FakeNews #SaveOntario #TreasonousTrudeau\\n\\nLook how corrupt our government is.  They removed Jack MacLaren for…\n",
       "217004             RT @Canada4Bernie: #QAnon #FollowTheWhiteRabbit - POTUS describes Strzok's actions as Treason: “A man is tweeting to his lover that if [Cli…\n",
       "853091            RT @gooomega: btw guys, #QAnon said to not lose focus on Loop Capital.\\nGuess what? Your chinese in Alberta don't need pipelines but TRAINS.…\n",
       "34987                     RT @michellecoats68: #QAnon #BrendenDilley INTEL DROPS!! Canada on USA Radar ?Are we being DU... https://t.co/Kpbf0Yk4Xi via @YouTube\n",
       "34888     RT @Crazy_Eh: #Q\\n#WEQ\\n#JFK\\n#Qanon\\n#WeThePEOPLE\\n#StayTOGETHER\\n#StaySTRONG\\n#WWG1WGA\\n@POTUS \\n@realDonaldTrump @JustinTrudeau https://t.co/URil…\n",
       "33955              RT @Canada4Bernie: ☄️💫 #FollowTheWhiteRabbit #QAnon \"The US mainstream propaganda media has yet to inform the American people that... https…\n",
       "36974              RT @Canada4Bernie: #RedPill #QAnon #WakeUpAmerica - that feeling when you begin to realize there is a sinister force intentionally... https…\n",
       "40963                                                            RT @Canada4Bernie: NYPD and Wikileaks both have copies of #HillarysSexTape \\n\\n#RedPill #QAnon\n",
       "812946                                    RT @Canada4Bernie: #Qanon #FollowTheWhiteRabbit - Yeah - This isn't weird and creepy. At all. https://t.co/wmTgQQNejo\n",
       "36146          RT @sine_injuria: #QAnon \\n#TheStorm \\n#TheWhiteRabbit \\n#FED/ #Globalist agenturs to crash a #NAFTA currency? 🤔\\nre #Canada $ https://t.co/iSO…\n",
       "Name: tweet_text, dtype: object"
      ]
     },
     "execution_count": 5,
     "metadata": {},
     "output_type": "execute_result"
    }
   ],
   "source": [
    "cantwt[cantwt.tweet_text.str.contains('qanon', case = False)].tweet_text.sample(10)"
   ]
  },
  {
   "cell_type": "code",
   "execution_count": null,
   "metadata": {},
   "outputs": [],
   "source": []
  }
 ],
 "metadata": {
  "kernelspec": {
   "display_name": "Python 3",
   "language": "python",
   "name": "python3"
  },
  "language_info": {
   "codemirror_mode": {
    "name": "ipython",
    "version": 3
   },
   "file_extension": ".py",
   "mimetype": "text/x-python",
   "name": "python",
   "nbconvert_exporter": "python",
   "pygments_lexer": "ipython3",
   "version": "3.6.5"
  }
 },
 "nbformat": 4,
 "nbformat_minor": 2
}
